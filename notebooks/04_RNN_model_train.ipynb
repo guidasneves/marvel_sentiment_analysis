{
 "cells": [
  {
   "cell_type": "markdown",
   "id": "f9928e43-0156-4890-a2fd-42ee5e0133c4",
   "metadata": {},
   "source": [
    "# RNN Model Train Step (Etapa do Treinamento do Modelo LSTM)\n",
    "**[EN-US]**\n",
    "\n",
    "Training and evaluation stage of the LSTM model, and then we save the model and its respective trained weights, and use it to make predictions on real-world data.\n",
    "\n",
    "In this step we perform:\n",
    "* Model definition;\n",
    "* Model training;\n",
    "* Model evaluation;\n",
    "* Saving the model and trained weights.\n",
    "\n",
    "**[PT-BR]**\n",
    "\n",
    "Etapa do treinamento e avaliação do modelo LSTM, para depois, salvarmos o modelo e seus respectivos pesos treinados, e usarmos para realizar a predição em dados do mundo real.\n",
    "\n",
    "Nesta etapa realizamos:\n",
    "* Definição do modelo;\n",
    "* Treinamento do modelo;\n",
    "* Avaliação do modelo;\n",
    "* Salvamento do modelo e dos pesos treinados."
   ]
  },
  {
   "cell_type": "markdown",
   "id": "707e087c-b700-4fd8-96dc-ab3cb28c8e9b",
   "metadata": {},
   "source": [
    "## Table of Contents\n",
    "* [Packages](#1)\n",
    "* [Setting](#2)\n",
    "* [RNN Model](#3)\n",
    "    * [Embedding](#3.1)\n",
    "    * [LSTM Layer](#3.2)\n",
    "* [LSTM Model Train](#4)"
   ]
  },
  {
   "cell_type": "markdown",
   "id": "d8359568-c47e-489e-95b3-fe92b4fbf658",
   "metadata": {},
   "source": [
    "<a name=\"1\"></a>\n",
    "## Packages (Pacotes)\n",
    "**[EN-US]**\n",
    "\n",
    "Packages used in the system.\n",
    "\n",
    "* [pandas](https://pandas.pydata.org/): is the main package for data manipulation;\n",
    "* [numpy](www.numpy.org): is the main package for scientific computing;\n",
    "* [pickle](https://docs.python.org/3/library/pickle.html): implements binary protocols for serializing and de-serializing a Python object structure;\n",
    "* [tensorflow](https://www.tensorflow.org/): framework that makes it easy to create ML models that can run in any environment;\n",
    "* [matplotlib](http://matplotlib.org): is a library to plot graphs;\n",
    "* [os](https://docs.python.org/3/library/os.html): built-in module, provides a portable way of using operating system dependent functionality;\n",
    "* [sys](https://docs.python.org/3/library/sys.html): provides access to some variables used or maintained by the interpreter and to functions that interact strongly with the interpreter;\n",
    "* [src](../src/): package with all the codes for all utility functions created for this system.\n",
    "\n",
    "**[PT-BR]**\n",
    "\n",
    "Pacotes utilizados no sistema.\n",
    "* [pandas](https://pandas.pydata.org/): é o principal pacote para manipulação de dados;\n",
    "* [numpy](www.numpy.org): é o principal pacote para computação científica;\n",
    "* [pickle](https://docs.python.org/3/library/pickle.html): implementa protocolos binários para serializar e desserializar uma estrutura de objeto Python;\n",
    "* [string](https://docs.python.org/pt-br/3.13/library/string.html): para operações comuns de strings;\n",
    "* [tensorflow](https://www.tensorflow.org/): framework que facilita a criação de modelos de machine learning que podem ser executados em qualquer ambiente;\n",
    "* [matplotlib](http://matplotlib.org): é uma biblioteca para plotar gráficos;\n",
    "* [os](https://docs.python.org/3/library/os.html): módulo integrado, fornece uma maneira portátil de usar funcionalidades dependentes do sistema operacional;\n",
    "* [sys](https://docs.python.org/3/library/sys.html): fornece acesso a algumas variáveis usadas ou mantidas pelo interpretador e a funções que interagem fortemente com o interpretador;\n",
    "* [src](../src/): pacote com todos os códigos de todas as funções utilitárias criadas para esse sistema."
   ]
  },
  {
   "cell_type": "code",
   "execution_count": 9,
   "id": "375d1727-909a-4086-ba17-f377c05c39ee",
   "metadata": {},
   "outputs": [],
   "source": [
    "import pandas as pd\n",
    "import numpy as np\n",
    "import pickle\n",
    "import tensorflow as tf\n",
    "from tensorflow.keras.layers import Input, Embedding, Bidirectional, LSTM, Dropout, Dense, GlobalAveragePooling1D\n",
    "from tensorflow.keras import Model\n",
    "from tensorflow.keras.callbacks import ModelCheckpoint, EarlyStopping\n",
    "\n",
    "import matplotlib.pyplot as plt\n",
    "\n",
    "import os\n",
    "import sys\n",
    "PROJECT_ROOT = os.path.abspath( # Getting Obtaining the absolute normalized version of the project root path (Obtendo a versão absoluta normalizada do path raíz do projeto)\n",
    "    os.path.join( # Concatenating the paths (Concatenando os paths)\n",
    "        os.getcwd(), # # Getting the path of the notebooks directory (Obtendo o path do diretório dos notebooks)\n",
    "        os.pardir # Gettin the constant string used by the OS to refer to the parent directory (Obtendo a string constante usada pelo OS para fazer referência ao diretório pai)\n",
    "    )\n",
    ")\n",
    "# Adding path to the list of strings that specify the search path for modules\n",
    "# Adicionando o path à lista de strings que especifica o path de pesquisa para os módulos\n",
    "sys.path.append(PROJECT_ROOT)\n",
    "from src.rnn_model_train import *"
   ]
  },
  {
   "cell_type": "markdown",
   "id": "0d3705eb-ec9b-4dcb-8e7a-178a41c04871",
   "metadata": {},
   "source": [
    "**[EN-US]**\n",
    "\n",
    "> **Note**: the codes for the utility functions used in this system are in the `rnn_model_train.py` script within the `../src/` directory.\n",
    "\n",
    "**[PT-BR]**\n",
    "\n",
    "> **Nota**: os códigos para as funções utilitárias utilizadas nesse sistema estão no script `rnn_model_train.py` dentro do diretório `../src/`."
   ]
  },
  {
   "cell_type": "markdown",
   "id": "c02bd306-a269-46e3-8f5d-e8b4a62bc355",
   "metadata": {},
   "source": [
    "<a name=\"2\"></a>\n",
    "## Setting (Configurando)\n",
    "**[EN-US]**\n",
    "\n",
    "Let's define the dataset and global variables for creating the model.\n",
    "\n",
    "Reading each of the subsets from the `../data/preprocessed/` directory and plotting their dimensions.\n",
    "\n",
    "**[PT-BR]**\n",
    "\n",
    "Vamos definir o dataset e as variáveis globais para a criação do modelo.\n",
    "\n",
    "Lendo cada um dos subsets do diretório `../data/preprocessed/` e plotando as suas dimensões."
   ]
  },
  {
   "cell_type": "code",
   "execution_count": 13,
   "id": "25ea5f4e-43f0-45e2-a4fd-cbc05d7f08d6",
   "metadata": {},
   "outputs": [
    {
     "name": "stdout",
     "output_type": "stream",
     "text": [
      "Train set shape: (9682, 167)\n",
      "Validation set shape: (3227, 167)\n",
      "Test set shape: (3228, 167)\n"
     ]
    }
   ],
   "source": [
    "# Subset names (nomes dos subsets)\n",
    "files = ['train', 'valid', 'test']\n",
    "datasets = []\n",
    "# Looping through each name (Percorrendo cada nome)\n",
    "for file in files:\n",
    "    # Reading each subset and adding it to the list for later extraction\n",
    "    # Lendo cada subset e adicionando na lista para extração posteriormente\n",
    "    with open(f'../data/preprocessed/{file}_tokens.npy', 'rb') as f:\n",
    "        datasets.append(np.load(f))\n",
    "\n",
    "# Extracting each subset from the `datasets` list\n",
    "# Extraindo cada subset da lista `datasets`\n",
    "train_corpus, valid_corpus, test_corpus = datasets\n",
    "print(f'Train set shape: {train_corpus.shape}\\nValidation set shape: {valid_corpus.shape}\\nTest set shape: {test_corpus.shape}')"
   ]
  },
  {
   "cell_type": "markdown",
   "id": "93a9b0f0-f877-4138-81bb-8dcc0ed65e58",
   "metadata": {},
   "source": [
    "**[EN-US]**\n",
    "\n",
    "Setting global variables to create `tensorflow.data.Dataset` and global variables to create the model.\n",
    "\n",
    "**[PT-BR]**\n",
    "\n",
    "Definindo as variáveis globais para criar o `tensorflow.data.Dataset` e as variáveis globais para a criação do modelo."
   ]
  },
  {
   "cell_type": "code",
   "execution_count": 16,
   "id": "74e88c26-e353-4a91-a2f2-fa1a41659f43",
   "metadata": {},
   "outputs": [],
   "source": [
    "# Dataset global variables\n",
    "BATCH_SIZE = 128\n",
    "BUFFER_SIZE = 1000\n",
    "\n",
    "# Model global variables\n",
    "MAX_LEN = train_corpus.shape[1] - 1\n",
    "EMBEDDING_DIM = 5000\n",
    "DROPOUT_RATE = .1\n",
    "# Loading vocabulary from trained tokenizer\n",
    "# Carregando o vocabulário do tokenizer treinado\n",
    "VOCAB_SIZE = len(pickle.load(open('../models/vectorizer.pkl', 'rb'))['vocabulary'])"
   ]
  },
  {
   "cell_type": "markdown",
   "id": "5328c5a6-9fdf-4596-b8d0-e601b97ca605",
   "metadata": {},
   "source": [
    "Creating `tensorflow.data.Dataset` for each subset and plotting the training set dimension (Criando o `tensorflow.data.Dataset` para cada subset e plotando a dimensão do training set)."
   ]
  },
  {
   "cell_type": "code",
   "execution_count": 19,
   "id": "86fba599-081a-4c37-835a-fd7a74e5286f",
   "metadata": {},
   "outputs": [
    {
     "name": "stdout",
     "output_type": "stream",
     "text": [
      "Shape of the train batch: (128, 166)\n"
     ]
    }
   ],
   "source": [
    "train_set = create_batch_dataset(train_corpus, BATCH_SIZE, BUFFER_SIZE, shuffle=True)\n",
    "valid_set = create_batch_dataset(valid_corpus, BATCH_SIZE, BUFFER_SIZE)\n",
    "test_set = create_batch_dataset(test_corpus, BATCH_SIZE, BUFFER_SIZE)\n",
    "\n",
    "train_batch = next(train_set.as_numpy_iterator())\n",
    "print(f\"Shape of the train batch: {train_batch[0].shape}\")"
   ]
  },
  {
   "cell_type": "markdown",
   "id": "55fc150b-e9c4-490d-837d-47605d5b4f0e",
   "metadata": {},
   "source": [
    "<a name=\"3\"></a>\n",
    "## RNN Model (Modelo RNN)"
   ]
  },
  {
   "cell_type": "markdown",
   "id": "a7900966-abe1-49c1-afd5-c21585c0f731",
   "metadata": {},
   "source": [
    "<a name=\"3.1\"></a>\n",
    "### Embedding"
   ]
  },
  {
   "cell_type": "markdown",
   "id": "30120afb-5418-40fc-8c41-6d7a464183df",
   "metadata": {},
   "source": [
    "<a name=\"3.2\"></a>\n",
    "### LSTM Layer"
   ]
  },
  {
   "cell_type": "markdown",
   "id": "f04bd579-0088-47d2-9694-65ffd8f2fb9c",
   "metadata": {},
   "source": [
    "<a name=\"4\"></a>\n",
    "## LSTM Model Train (Treinamento do Modelo LSTM)"
   ]
  },
  {
   "cell_type": "code",
   "execution_count": 60,
   "id": "62ace129-dd26-4605-bd08-bcbb6a016cec",
   "metadata": {},
   "outputs": [],
   "source": [
    "def create_and_compile_model(input_shape, vocab_size, embedding_dim=1000, dropout_rate=.1, lr=1e-3):\n",
    "    \"\"\"\n",
    "    \n",
    "    \"\"\"\n",
    "    input_layer = Input(shape=(input_shape,))\n",
    "    embedding_layer = Embedding(vocab_size, embedding_dim, name='embedding_layer')(input_layer)\n",
    "    X = Bidirectional(LSTM(32, return_sequences=False), name='bi_lstm_layer_1')(embedding_layer)\n",
    "    X = Dropout(rate=dropout_rate, name='dropout_layer_1')(X)\n",
    "    #X = Bidirectional(LSTM(16), name='bi_lstm_layer_2')(X)\n",
    "    #X = Dropout(rate=dropout_rate, name='dropout_layer_2')(X)\n",
    "    X = Dense(\n",
    "        16, \n",
    "        activation='relu', \n",
    "        kernel_initializer='he_normal',\n",
    "        name='dense_layer_1'\n",
    "    )(X)\n",
    "    '''X = Dense(\n",
    "        64, \n",
    "        activation='relu',\n",
    "        kernel_initializer='he_normal',\n",
    "        name='dense_layer_2'\n",
    "    )(X)'''\n",
    "    output = Dense(1, activation='sigmoid', name='output_layer')(X)\n",
    "    model = Model(inputs=[input_layer], outputs=[output])\n",
    "    \n",
    "    model.compile(\n",
    "        optimizer=tf.keras.optimizers.Adam(learning_rate=lr),\n",
    "        loss='binary_crossentropy', \n",
    "        metrics=['accuracy', 'auc']\n",
    "    )    \n",
    "\n",
    "    return model"
   ]
  },
  {
   "cell_type": "code",
   "execution_count": 84,
   "id": "49e5c769-9a9b-4c2f-a151-43631c3341db",
   "metadata": {},
   "outputs": [],
   "source": [
    "def plot_history(history, metric_name):\n",
    "    \"\"\"\n",
    "    \n",
    "    \"\"\"\n",
    "    loss = history.history['loss']\n",
    "    val_loss = history.history['val_loss']\n",
    "    metric = history.history[metric_name]\n",
    "    val_metric = history.history[f'val_{metric_name}']\n",
    "    epochs = range(len(loss))\n",
    "    utils = [loss, 'loss'], [metric, metric_name]\n",
    "    val_utils = [val_loss], [val_metric]\n",
    "    \n",
    "    fig, ax = plt.subplots(2, 2, figsize=(12, 6))\n",
    "    for i in range(2):\n",
    "        fig.suptitle('Performance per Epoch', fontsize=16)\n",
    "        ax[i, 0].plot(epochs, utils[i][0], label='Train', color='cornflowerblue')\n",
    "        ax[i, 0].plot(epochs, val_utils[i][0], label='Validation', color='chocolate')\n",
    "        ax[i, 0].set_ylabel(utils[i][1], fontsize=16)        \n",
    "    \n",
    "        ax[i, 1].plot(epochs, utils[i][0], label='Train', color='cornflowerblue')\n",
    "        ax[i, 1].plot(epochs, val_utils[i][0], label='Validation', color='chocolate')\n",
    "        ax[i, 1].set_xlim(int((len(utils[i][0]) * .75)), len(utils[i][0]))\n",
    "        if i == 1:\n",
    "            ax[i, 0].set_xlabel('epochs', fontsize=16)\n",
    "            ax[i, 1].set_xlabel('epochs', fontsize=16)\n",
    "    plt.legend(loc='best', fontsize=16)\n",
    "    plt.show()"
   ]
  },
  {
   "cell_type": "code",
   "execution_count": 64,
   "id": "22aa9e91-07e9-4bfc-9325-fbd505d0838d",
   "metadata": {},
   "outputs": [
    {
     "data": {
      "text/html": [
       "<pre style=\"white-space:pre;overflow-x:auto;line-height:normal;font-family:Menlo,'DejaVu Sans Mono',consolas,'Courier New',monospace\"><span style=\"font-weight: bold\">Model: \"functional_3\"</span>\n",
       "</pre>\n"
      ],
      "text/plain": [
       "\u001b[1mModel: \"functional_3\"\u001b[0m\n"
      ]
     },
     "metadata": {},
     "output_type": "display_data"
    },
    {
     "data": {
      "text/html": [
       "<pre style=\"white-space:pre;overflow-x:auto;line-height:normal;font-family:Menlo,'DejaVu Sans Mono',consolas,'Courier New',monospace\">┏━━━━━━━━━━━━━━━━━━━━━━━━━━━━━━━━━┳━━━━━━━━━━━━━━━━━━━━━━━━┳━━━━━━━━━━━━━━━┓\n",
       "┃<span style=\"font-weight: bold\"> Layer (type)                    </span>┃<span style=\"font-weight: bold\"> Output Shape           </span>┃<span style=\"font-weight: bold\">       Param # </span>┃\n",
       "┡━━━━━━━━━━━━━━━━━━━━━━━━━━━━━━━━━╇━━━━━━━━━━━━━━━━━━━━━━━━╇━━━━━━━━━━━━━━━┩\n",
       "│ input_layer_1 (<span style=\"color: #0087ff; text-decoration-color: #0087ff\">InputLayer</span>)      │ (<span style=\"color: #00d7ff; text-decoration-color: #00d7ff\">None</span>, <span style=\"color: #00af00; text-decoration-color: #00af00\">166</span>)            │             <span style=\"color: #00af00; text-decoration-color: #00af00\">0</span> │\n",
       "├─────────────────────────────────┼────────────────────────┼───────────────┤\n",
       "│ embedding_layer (<span style=\"color: #0087ff; text-decoration-color: #0087ff\">Embedding</span>)     │ (<span style=\"color: #00d7ff; text-decoration-color: #00d7ff\">None</span>, <span style=\"color: #00af00; text-decoration-color: #00af00\">166</span>, <span style=\"color: #00af00; text-decoration-color: #00af00\">500</span>)       │     <span style=\"color: #00af00; text-decoration-color: #00af00\">5,000,000</span> │\n",
       "├─────────────────────────────────┼────────────────────────┼───────────────┤\n",
       "│ bi_lstm_layer_1 (<span style=\"color: #0087ff; text-decoration-color: #0087ff\">Bidirectional</span>) │ (<span style=\"color: #00d7ff; text-decoration-color: #00d7ff\">None</span>, <span style=\"color: #00af00; text-decoration-color: #00af00\">64</span>)             │       <span style=\"color: #00af00; text-decoration-color: #00af00\">136,448</span> │\n",
       "├─────────────────────────────────┼────────────────────────┼───────────────┤\n",
       "│ dropout_layer_1 (<span style=\"color: #0087ff; text-decoration-color: #0087ff\">Dropout</span>)       │ (<span style=\"color: #00d7ff; text-decoration-color: #00d7ff\">None</span>, <span style=\"color: #00af00; text-decoration-color: #00af00\">64</span>)             │             <span style=\"color: #00af00; text-decoration-color: #00af00\">0</span> │\n",
       "├─────────────────────────────────┼────────────────────────┼───────────────┤\n",
       "│ dense_layer_1 (<span style=\"color: #0087ff; text-decoration-color: #0087ff\">Dense</span>)           │ (<span style=\"color: #00d7ff; text-decoration-color: #00d7ff\">None</span>, <span style=\"color: #00af00; text-decoration-color: #00af00\">16</span>)             │         <span style=\"color: #00af00; text-decoration-color: #00af00\">1,040</span> │\n",
       "├─────────────────────────────────┼────────────────────────┼───────────────┤\n",
       "│ output_layer (<span style=\"color: #0087ff; text-decoration-color: #0087ff\">Dense</span>)            │ (<span style=\"color: #00d7ff; text-decoration-color: #00d7ff\">None</span>, <span style=\"color: #00af00; text-decoration-color: #00af00\">1</span>)              │            <span style=\"color: #00af00; text-decoration-color: #00af00\">17</span> │\n",
       "└─────────────────────────────────┴────────────────────────┴───────────────┘\n",
       "</pre>\n"
      ],
      "text/plain": [
       "┏━━━━━━━━━━━━━━━━━━━━━━━━━━━━━━━━━┳━━━━━━━━━━━━━━━━━━━━━━━━┳━━━━━━━━━━━━━━━┓\n",
       "┃\u001b[1m \u001b[0m\u001b[1mLayer (type)                   \u001b[0m\u001b[1m \u001b[0m┃\u001b[1m \u001b[0m\u001b[1mOutput Shape          \u001b[0m\u001b[1m \u001b[0m┃\u001b[1m \u001b[0m\u001b[1m      Param #\u001b[0m\u001b[1m \u001b[0m┃\n",
       "┡━━━━━━━━━━━━━━━━━━━━━━━━━━━━━━━━━╇━━━━━━━━━━━━━━━━━━━━━━━━╇━━━━━━━━━━━━━━━┩\n",
       "│ input_layer_1 (\u001b[38;5;33mInputLayer\u001b[0m)      │ (\u001b[38;5;45mNone\u001b[0m, \u001b[38;5;34m166\u001b[0m)            │             \u001b[38;5;34m0\u001b[0m │\n",
       "├─────────────────────────────────┼────────────────────────┼───────────────┤\n",
       "│ embedding_layer (\u001b[38;5;33mEmbedding\u001b[0m)     │ (\u001b[38;5;45mNone\u001b[0m, \u001b[38;5;34m166\u001b[0m, \u001b[38;5;34m500\u001b[0m)       │     \u001b[38;5;34m5,000,000\u001b[0m │\n",
       "├─────────────────────────────────┼────────────────────────┼───────────────┤\n",
       "│ bi_lstm_layer_1 (\u001b[38;5;33mBidirectional\u001b[0m) │ (\u001b[38;5;45mNone\u001b[0m, \u001b[38;5;34m64\u001b[0m)             │       \u001b[38;5;34m136,448\u001b[0m │\n",
       "├─────────────────────────────────┼────────────────────────┼───────────────┤\n",
       "│ dropout_layer_1 (\u001b[38;5;33mDropout\u001b[0m)       │ (\u001b[38;5;45mNone\u001b[0m, \u001b[38;5;34m64\u001b[0m)             │             \u001b[38;5;34m0\u001b[0m │\n",
       "├─────────────────────────────────┼────────────────────────┼───────────────┤\n",
       "│ dense_layer_1 (\u001b[38;5;33mDense\u001b[0m)           │ (\u001b[38;5;45mNone\u001b[0m, \u001b[38;5;34m16\u001b[0m)             │         \u001b[38;5;34m1,040\u001b[0m │\n",
       "├─────────────────────────────────┼────────────────────────┼───────────────┤\n",
       "│ output_layer (\u001b[38;5;33mDense\u001b[0m)            │ (\u001b[38;5;45mNone\u001b[0m, \u001b[38;5;34m1\u001b[0m)              │            \u001b[38;5;34m17\u001b[0m │\n",
       "└─────────────────────────────────┴────────────────────────┴───────────────┘\n"
      ]
     },
     "metadata": {},
     "output_type": "display_data"
    },
    {
     "data": {
      "text/html": [
       "<pre style=\"white-space:pre;overflow-x:auto;line-height:normal;font-family:Menlo,'DejaVu Sans Mono',consolas,'Courier New',monospace\"><span style=\"font-weight: bold\"> Total params: </span><span style=\"color: #00af00; text-decoration-color: #00af00\">5,137,505</span> (19.60 MB)\n",
       "</pre>\n"
      ],
      "text/plain": [
       "\u001b[1m Total params: \u001b[0m\u001b[38;5;34m5,137,505\u001b[0m (19.60 MB)\n"
      ]
     },
     "metadata": {},
     "output_type": "display_data"
    },
    {
     "data": {
      "text/html": [
       "<pre style=\"white-space:pre;overflow-x:auto;line-height:normal;font-family:Menlo,'DejaVu Sans Mono',consolas,'Courier New',monospace\"><span style=\"font-weight: bold\"> Trainable params: </span><span style=\"color: #00af00; text-decoration-color: #00af00\">5,137,505</span> (19.60 MB)\n",
       "</pre>\n"
      ],
      "text/plain": [
       "\u001b[1m Trainable params: \u001b[0m\u001b[38;5;34m5,137,505\u001b[0m (19.60 MB)\n"
      ]
     },
     "metadata": {},
     "output_type": "display_data"
    },
    {
     "data": {
      "text/html": [
       "<pre style=\"white-space:pre;overflow-x:auto;line-height:normal;font-family:Menlo,'DejaVu Sans Mono',consolas,'Courier New',monospace\"><span style=\"font-weight: bold\"> Non-trainable params: </span><span style=\"color: #00af00; text-decoration-color: #00af00\">0</span> (0.00 B)\n",
       "</pre>\n"
      ],
      "text/plain": [
       "\u001b[1m Non-trainable params: \u001b[0m\u001b[38;5;34m0\u001b[0m (0.00 B)\n"
      ]
     },
     "metadata": {},
     "output_type": "display_data"
    }
   ],
   "source": [
    "EMBEDDING_DIM = 500\n",
    "DROPOUT_RATE = .5\n",
    "\n",
    "model = create_and_compile_model(\n",
    "    MAX_LEN, \n",
    "    VOCAB_SIZE, \n",
    "    EMBEDDING_DIM, \n",
    "    dropout_rate=DROPOUT_RATE, \n",
    "    lr=1e-2\n",
    ")\n",
    "model.summary()"
   ]
  },
  {
   "cell_type": "code",
   "execution_count": 66,
   "id": "cbea468b-7de2-4769-8a6c-7cae6f2ec47c",
   "metadata": {
    "scrolled": true
   },
   "outputs": [
    {
     "name": "stdout",
     "output_type": "stream",
     "text": [
      "Epoch 1/25\n"
     ]
    },
    {
     "name": "stderr",
     "output_type": "stream",
     "text": [
      "C:\\Users\\guine\\AppData\\Local\\anaconda3\\Lib\\site-packages\\keras\\src\\models\\functional.py:225: UserWarning: The structure of `inputs` doesn't match the expected structure: ['keras_tensor_20']. Received: the structure of inputs=*\n",
      "  warnings.warn(\n"
     ]
    },
    {
     "name": "stdout",
     "output_type": "stream",
     "text": [
      "76/76 - 26s - 338ms/step - accuracy: 0.6412 - auc: 0.6251 - loss: 0.6409 - val_accuracy: 0.6576 - val_auc: 0.6691 - val_loss: 0.6213\n",
      "Epoch 2/25\n",
      "76/76 - 18s - 234ms/step - accuracy: 0.7509 - auc: 0.8108 - loss: 0.5113 - val_accuracy: 0.6452 - val_auc: 0.6696 - val_loss: 0.6486\n",
      "Epoch 3/25\n",
      "76/76 - 17s - 228ms/step - accuracy: 0.8036 - auc: 0.8755 - loss: 0.4259 - val_accuracy: 0.6303 - val_auc: 0.6637 - val_loss: 0.7446\n",
      "Epoch 4/25\n",
      "76/76 - 17s - 222ms/step - accuracy: 0.8387 - auc: 0.9103 - loss: 0.3676 - val_accuracy: 0.6154 - val_auc: 0.6562 - val_loss: 0.8816\n",
      "Epoch 5/25\n",
      "76/76 - 17s - 223ms/step - accuracy: 0.8704 - auc: 0.9402 - loss: 0.3007 - val_accuracy: 0.6294 - val_auc: 0.6518 - val_loss: 0.9658\n",
      "Epoch 6/25\n",
      "76/76 - 17s - 217ms/step - accuracy: 0.9007 - auc: 0.9613 - loss: 0.2427 - val_accuracy: 0.6284 - val_auc: 0.6476 - val_loss: 1.0677\n",
      "Epoch 7/25\n",
      "76/76 - 18s - 232ms/step - accuracy: 0.9220 - auc: 0.9731 - loss: 0.2016 - val_accuracy: 0.6201 - val_auc: 0.6387 - val_loss: 1.2941\n",
      "Epoch 8/25\n",
      "76/76 - 18s - 238ms/step - accuracy: 0.9200 - auc: 0.9760 - loss: 0.1906 - val_accuracy: 0.6359 - val_auc: 0.6412 - val_loss: 1.2440\n",
      "Epoch 9/25\n",
      "76/76 - 19s - 245ms/step - accuracy: 0.9289 - auc: 0.9795 - loss: 0.1755 - val_accuracy: 0.6253 - val_auc: 0.6365 - val_loss: 1.4064\n",
      "Epoch 10/25\n",
      "76/76 - 19s - 254ms/step - accuracy: 0.9323 - auc: 0.9826 - loss: 0.1620 - val_accuracy: 0.6312 - val_auc: 0.6384 - val_loss: 1.3947\n",
      "Epoch 11/25\n",
      "76/76 - 19s - 244ms/step - accuracy: 0.9401 - auc: 0.9843 - loss: 0.1530 - val_accuracy: 0.6343 - val_auc: 0.6352 - val_loss: 1.5237\n",
      "Epoch 12/25\n",
      "76/76 - 17s - 230ms/step - accuracy: 0.9455 - auc: 0.9875 - loss: 0.1366 - val_accuracy: 0.6288 - val_auc: 0.6325 - val_loss: 1.4844\n",
      "Epoch 13/25\n",
      "76/76 - 18s - 238ms/step - accuracy: 0.9503 - auc: 0.9883 - loss: 0.1304 - val_accuracy: 0.6328 - val_auc: 0.6347 - val_loss: 1.5690\n",
      "Epoch 14/25\n",
      "76/76 - 19s - 247ms/step - accuracy: 0.9479 - auc: 0.9876 - loss: 0.1340 - val_accuracy: 0.6241 - val_auc: 0.6355 - val_loss: 1.4869\n",
      "Epoch 15/25\n",
      "76/76 - 19s - 244ms/step - accuracy: 0.9548 - auc: 0.9893 - loss: 0.1240 - val_accuracy: 0.6359 - val_auc: 0.6395 - val_loss: 1.5951\n",
      "Epoch 16/25\n",
      "76/76 - 17s - 225ms/step - accuracy: 0.9530 - auc: 0.9902 - loss: 0.1203 - val_accuracy: 0.6241 - val_auc: 0.6304 - val_loss: 1.6149\n",
      "Epoch 17/25\n",
      "76/76 - 17s - 228ms/step - accuracy: 0.9514 - auc: 0.9895 - loss: 0.1236 - val_accuracy: 0.6306 - val_auc: 0.6376 - val_loss: 1.6017\n",
      "Epoch 18/25\n",
      "76/76 - 17s - 228ms/step - accuracy: 0.9554 - auc: 0.9910 - loss: 0.1129 - val_accuracy: 0.6346 - val_auc: 0.6363 - val_loss: 1.6246\n",
      "Epoch 19/25\n",
      "76/76 - 18s - 233ms/step - accuracy: 0.9612 - auc: 0.9930 - loss: 0.1009 - val_accuracy: 0.6232 - val_auc: 0.6295 - val_loss: 1.7875\n",
      "Epoch 20/25\n",
      "76/76 - 18s - 234ms/step - accuracy: 0.9570 - auc: 0.9927 - loss: 0.1039 - val_accuracy: 0.6247 - val_auc: 0.6341 - val_loss: 1.7586\n",
      "Epoch 21/25\n",
      "76/76 - 18s - 237ms/step - accuracy: 0.9590 - auc: 0.9926 - loss: 0.1032 - val_accuracy: 0.6250 - val_auc: 0.6314 - val_loss: 1.8219\n",
      "Epoch 22/25\n",
      "76/76 - 17s - 227ms/step - accuracy: 0.9637 - auc: 0.9931 - loss: 0.0982 - val_accuracy: 0.6291 - val_auc: 0.6268 - val_loss: 1.9435\n",
      "Epoch 23/25\n",
      "76/76 - 17s - 226ms/step - accuracy: 0.9579 - auc: 0.9924 - loss: 0.1046 - val_accuracy: 0.6257 - val_auc: 0.6198 - val_loss: 1.8111\n",
      "Epoch 24/25\n",
      "76/76 - 18s - 241ms/step - accuracy: 0.9582 - auc: 0.9915 - loss: 0.1089 - val_accuracy: 0.6182 - val_auc: 0.6226 - val_loss: 1.7746\n",
      "Epoch 25/25\n",
      "76/76 - 17s - 226ms/step - accuracy: 0.9622 - auc: 0.9933 - loss: 0.0972 - val_accuracy: 0.6192 - val_auc: 0.6207 - val_loss: 1.9474\n"
     ]
    }
   ],
   "source": [
    "checkpoint_cb = ModelCheckpoint('../models/lstm_model.keras', save_best_only=True)\n",
    "early_stopping_cb = EarlyStopping(patience=50, restore_best_weights=True)\n",
    "\n",
    "history = model.fit(\n",
    "    train_set,\n",
    "    epochs=25,\n",
    "    validation_data=valid_set,\n",
    "    callbacks=[checkpoint_cb, early_stopping_cb],\n",
    "    verbose=2\n",
    ")"
   ]
  },
  {
   "cell_type": "code",
   "execution_count": 86,
   "id": "cb4e336a-fb3c-4484-8a03-f84e11195162",
   "metadata": {},
   "outputs": [
    {
     "data": {
      "image/png": "[encoded data removed]",
      "text/plain": [
       "<Figure size 1200x600 with 4 Axes>"
      ]
     },
     "metadata": {},
     "output_type": "display_data"
    }
   ],
   "source": [
    "plot_history(history, 'accuracy')"
   ]
  },
  {
   "cell_type": "code",
   "execution_count": 81,
   "id": "3901b558-8d92-4299-bbf4-edf621de3ddc",
   "metadata": {},
   "outputs": [
    {
     "name": "stdout",
     "output_type": "stream",
     "text": [
      "Test set evaluate: 0.6561\n"
     ]
    }
   ],
   "source": [
    "print(f'Test set evaluate: {model.evaluate(test_set, verbose=0)[1]:.4f}')"
   ]
  },
  {
   "cell_type": "code",
   "execution_count": null,
   "id": "c0c5d157-8e30-401f-b9c3-22f86f5992ae",
   "metadata": {},
   "outputs": [],
   "source": []
  }
 ],
 "metadata": {
  "kernelspec": {
   "display_name": "Python 3 (ipykernel)",
   "language": "python",
   "name": "python3"
  },
  "language_info": {
   "codemirror_mode": {
    "name": "ipython",
    "version": 3
   },
   "file_extension": ".py",
   "mimetype": "text/x-python",
   "name": "python",
   "nbconvert_exporter": "python",
   "pygments_lexer": "ipython3",
   "version": "3.11.5"
  }
 },
 "nbformat": 4,
 "nbformat_minor": 5
}
