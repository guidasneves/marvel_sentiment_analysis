{
 "cells": [
  {
   "cell_type": "code",
   "execution_count": 168,
   "id": "375d1727-909a-4086-ba17-f377c05c39ee",
   "metadata": {},
   "outputs": [],
   "source": [
    "import pandas as pd\n",
    "import numpy as np\n",
    "import pickle\n",
    "import tensorflow as tf\n",
    "from tensorflow.data import Dataset, AUTOTUNE\n",
    "from tensorflow.keras.layers import Input, Embedding, Bidirectional, LSTM, Dropout, Dense\n",
    "from tensorflow.keras import Model\n",
    "from tensorflow.keras.callbacks import ModelCheckpoint, EarlyStopping\n",
    "\n",
    "import matplotlib.pyplot as plt\n",
    "\n",
    "import os\n",
    "import sys\n",
    "PROJECT_ROOT = os.path.abspath( # Getting Obtaining the absolute normalized version of the project root path (Obtendo a versão absoluta normalizada do path raíz do projeto)\n",
    "    os.path.join( # Concatenating the paths (Concatenando os paths)\n",
    "        os.getcwd(), # # Getting the path of the notebooks directory (Obtendo o path do diretório dos notebooks)\n",
    "        os.pardir # Gettin the constant string used by the OS to refer to the parent directory (Obtendo a string constante usada pelo OS para fazer referência ao diretório pai)\n",
    "    )\n",
    ")\n",
    "# Adding path to the list of strings that specify the search path for modules\n",
    "# Adicionando o path à lista de strings que especifica o path de pesquisa para os módulos\n",
    "sys.path.append(PROJECT_ROOT)\n",
    "from src.preprocessing import *"
   ]
  },
  {
   "cell_type": "code",
   "execution_count": 42,
   "id": "25ea5f4e-43f0-45e2-a4fd-cbc05d7f08d6",
   "metadata": {},
   "outputs": [
    {
     "name": "stdout",
     "output_type": "stream",
     "text": [
      "Train set shape: (9682, 167)\n",
      "Validation set shape: (3227, 167)\n",
      "Test set shape: (3228, 167)\n"
     ]
    }
   ],
   "source": [
    "files = ['train', 'valid', 'test']\n",
    "datasets = []\n",
    "for file in files:\n",
    "    with open(f'../data/preprocessed/{file}_corpus.npy', 'rb') as f:\n",
    "        datasets.append(np.load(f))\n",
    "\n",
    "train_corpus, valid_corpus, test_corpus = datasets\n",
    "print(f'Train set shape: {train_corpus.shape}\\nValidation set shape: {valid_corpus.shape}\\nTest set shape: {test_corpus.shape}')"
   ]
  },
  {
   "cell_type": "code",
   "execution_count": 70,
   "id": "74e88c26-e353-4a91-a2f2-fa1a41659f43",
   "metadata": {},
   "outputs": [],
   "source": [
    "# Dataset global variables\n",
    "BATCH_SIZE = 128\n",
    "BUFFER_SIZE = 1000\n",
    "\n",
    "# Model global variables\n",
    "MAX_LEN = train_corpus.shape[1] - 1\n",
    "EMBEDDING_DIM = 5000\n",
    "DROPOUT_RATE = .1\n",
    "VOCAB_SIZE = len(pickle.load(open('../models/vectorizer.pkl', 'rb'))['vocabulary'])"
   ]
  },
  {
   "cell_type": "code",
   "execution_count": 90,
   "id": "1878a33a-ad9c-49c5-8755-1686be3b9bed",
   "metadata": {},
   "outputs": [],
   "source": [
    "def create_batch_dataset(dataset, batch_size=64, buffer_size=10000):\n",
    "    \"\"\"\n",
    "    \n",
    "    \"\"\"\n",
    "    dataset_final = Dataset.from_tensor_slices((dataset[:, :-1], dataset[:, -1:]))\n",
    "    dataset_final = (dataset_final\n",
    "                    .batch(batch_size)\n",
    "                    .shuffle(buffer_size)\n",
    "                    .prefetch(AUTOTUNE)\n",
    "                    .cache()\n",
    "                    )\n",
    "\n",
    "    return dataset_final"
   ]
  },
  {
   "cell_type": "code",
   "execution_count": 94,
   "id": "86fba599-081a-4c37-835a-fd7a74e5286f",
   "metadata": {},
   "outputs": [
    {
     "name": "stdout",
     "output_type": "stream",
     "text": [
      "Shape of the train batch: (128, 166)\n"
     ]
    }
   ],
   "source": [
    "train_set = create_batch_dataset(train_corpus, BATCH_SIZE, BUFFER_SIZE)\n",
    "valid_set = create_batch_dataset(valid_corpus, BATCH_SIZE, BUFFER_SIZE)\n",
    "test_set = create_batch_dataset(test_corpus, BATCH_SIZE, BUFFER_SIZE)\n",
    "\n",
    "train_batch = next(train_set.as_numpy_iterator())\n",
    "print(f\"Shape of the train batch: {train_batch[0].shape}\")"
   ]
  },
  {
   "cell_type": "code",
   "execution_count": 178,
   "id": "62ace129-dd26-4605-bd08-bcbb6a016cec",
   "metadata": {},
   "outputs": [],
   "source": [
    "def create_and_compile_model(input_shape, vocab_size, embedding_dim=1000, dropout_rate=.1, lr=1e-3):\n",
    "    \"\"\"\n",
    "    \n",
    "    \"\"\"\n",
    "    input_layer = Input(shape=(input_shape,), name='input_layer')\n",
    "    embedding_layer = Embedding(vocab_size, embedding_dim, name='embedding_layer')(input_layer)\n",
    "    X = Bidirectional(LSTM(64, return_sequences=True), name='bi_lstm_layer_1')(embedding_layer)\n",
    "    X = Dropout(rate=dropout_rate, name='dropout_layer_1')(X)\n",
    "    X = Bidirectional(LSTM(32), name='bi_lstm_layer_2')(X)\n",
    "    X = Dropout(rate=dropout_rate, name='dropout_layer_2')(X)\n",
    "    X = Dense(\n",
    "        32, \n",
    "        activation='relu', \n",
    "        kernel_initializer='he_normal',\n",
    "        name='dense_layer_1'\n",
    "    )(X)\n",
    "    '''X = Dense(\n",
    "        64, \n",
    "        activation='relu',\n",
    "        kernel_initializer='he_normal',\n",
    "        name='dense_layer_2'\n",
    "    )(X)'''\n",
    "    output = Dense(1, activation='sigmoid', name='output_layer')(X)\n",
    "    model = Model(inputs=[input_layer], outputs=[output])\n",
    "    \n",
    "    model.compile(\n",
    "        optimizer=tf.keras.optimizers.Adam(learning_rate=lr),\n",
    "        loss='binary_crossentropy', \n",
    "        metrics=['accuracy', 'f1_score']\n",
    "    )    \n",
    "\n",
    "    return model"
   ]
  },
  {
   "cell_type": "code",
   "execution_count": 219,
   "id": "49e5c769-9a9b-4c2f-a151-43631c3341db",
   "metadata": {},
   "outputs": [],
   "source": [
    "def plot_history(history, metric_name):\n",
    "    \"\"\"\n",
    "    \n",
    "    \"\"\"\n",
    "    loss = history.history['loss']\n",
    "    val_loss = history.history['val_loss']\n",
    "    metric = history.history[metric_name]\n",
    "    val_metric = history.history[f'val_{metric_name}']\n",
    "    epochs = range(len(loss))\n",
    "    utils = [loss, 'loss'], [metric, metric_name]\n",
    "    val_utils = [val_loss], [val_metric]\n",
    "    \n",
    "    fig, ax = plt.subplots(2, 2, figsize=(12, 6))\n",
    "    for i in range(2):\n",
    "        fig.suptitle('Performance per Epoch', fontsize=16)\n",
    "        ax[i, 0].plot(epochs, utils[i][0], label='Train')\n",
    "        ax[i, 0].plot(epochs, val_utils[i][0], label='Validation')\n",
    "        ax[i, 0].set_ylabel(utils[i][1], fontsize=16)        \n",
    "    \n",
    "        ax[i, 1].plot(epochs, utils[i][0], label='Train')\n",
    "        ax[i, 1].plot(epochs, val_utils[i][0], label='Validation')\n",
    "        ax[i, 1].set_xlim(int((len(utils[i][0]) * .75)), len(utils[i][0]))\n",
    "        if i == 1:\n",
    "            ax[i, 0].set_xlabel('epochs', fontsize=16)\n",
    "            ax[i, 1].set_xlabel('epochs', fontsize=16)\n",
    "    plt.legend(loc='best', fontsize=16)\n",
    "    plt.show()"
   ]
  },
  {
   "cell_type": "code",
   "execution_count": 228,
   "id": "22aa9e91-07e9-4bfc-9325-fbd505d0838d",
   "metadata": {},
   "outputs": [
    {
     "data": {
      "text/html": [
       "<pre style=\"white-space:pre;overflow-x:auto;line-height:normal;font-family:Menlo,'DejaVu Sans Mono',consolas,'Courier New',monospace\"><span style=\"font-weight: bold\">Model: \"functional_12\"</span>\n",
       "</pre>\n"
      ],
      "text/plain": [
       "\u001b[1mModel: \"functional_12\"\u001b[0m\n"
      ]
     },
     "metadata": {},
     "output_type": "display_data"
    },
    {
     "data": {
      "text/html": [
       "<pre style=\"white-space:pre;overflow-x:auto;line-height:normal;font-family:Menlo,'DejaVu Sans Mono',consolas,'Courier New',monospace\">┏━━━━━━━━━━━━━━━━━━━━━━━━━━━━━━━━━┳━━━━━━━━━━━━━━━━━━━━━━━━┳━━━━━━━━━━━━━━━┓\n",
       "┃<span style=\"font-weight: bold\"> Layer (type)                    </span>┃<span style=\"font-weight: bold\"> Output Shape           </span>┃<span style=\"font-weight: bold\">       Param # </span>┃\n",
       "┡━━━━━━━━━━━━━━━━━━━━━━━━━━━━━━━━━╇━━━━━━━━━━━━━━━━━━━━━━━━╇━━━━━━━━━━━━━━━┩\n",
       "│ input_layer (<span style=\"color: #0087ff; text-decoration-color: #0087ff\">InputLayer</span>)        │ (<span style=\"color: #00d7ff; text-decoration-color: #00d7ff\">None</span>, <span style=\"color: #00af00; text-decoration-color: #00af00\">166</span>)            │             <span style=\"color: #00af00; text-decoration-color: #00af00\">0</span> │\n",
       "├─────────────────────────────────┼────────────────────────┼───────────────┤\n",
       "│ embedding_layer (<span style=\"color: #0087ff; text-decoration-color: #0087ff\">Embedding</span>)     │ (<span style=\"color: #00d7ff; text-decoration-color: #00d7ff\">None</span>, <span style=\"color: #00af00; text-decoration-color: #00af00\">166</span>, <span style=\"color: #00af00; text-decoration-color: #00af00\">1000</span>)      │    <span style=\"color: #00af00; text-decoration-color: #00af00\">15,884,000</span> │\n",
       "├─────────────────────────────────┼────────────────────────┼───────────────┤\n",
       "│ bi_lstm_layer_1 (<span style=\"color: #0087ff; text-decoration-color: #0087ff\">Bidirectional</span>) │ (<span style=\"color: #00d7ff; text-decoration-color: #00d7ff\">None</span>, <span style=\"color: #00af00; text-decoration-color: #00af00\">166</span>, <span style=\"color: #00af00; text-decoration-color: #00af00\">128</span>)       │       <span style=\"color: #00af00; text-decoration-color: #00af00\">545,280</span> │\n",
       "├─────────────────────────────────┼────────────────────────┼───────────────┤\n",
       "│ dropout_layer_1 (<span style=\"color: #0087ff; text-decoration-color: #0087ff\">Dropout</span>)       │ (<span style=\"color: #00d7ff; text-decoration-color: #00d7ff\">None</span>, <span style=\"color: #00af00; text-decoration-color: #00af00\">166</span>, <span style=\"color: #00af00; text-decoration-color: #00af00\">128</span>)       │             <span style=\"color: #00af00; text-decoration-color: #00af00\">0</span> │\n",
       "├─────────────────────────────────┼────────────────────────┼───────────────┤\n",
       "│ bi_lstm_layer_2 (<span style=\"color: #0087ff; text-decoration-color: #0087ff\">Bidirectional</span>) │ (<span style=\"color: #00d7ff; text-decoration-color: #00d7ff\">None</span>, <span style=\"color: #00af00; text-decoration-color: #00af00\">64</span>)             │        <span style=\"color: #00af00; text-decoration-color: #00af00\">41,216</span> │\n",
       "├─────────────────────────────────┼────────────────────────┼───────────────┤\n",
       "│ dropout_layer_2 (<span style=\"color: #0087ff; text-decoration-color: #0087ff\">Dropout</span>)       │ (<span style=\"color: #00d7ff; text-decoration-color: #00d7ff\">None</span>, <span style=\"color: #00af00; text-decoration-color: #00af00\">64</span>)             │             <span style=\"color: #00af00; text-decoration-color: #00af00\">0</span> │\n",
       "├─────────────────────────────────┼────────────────────────┼───────────────┤\n",
       "│ dense_layer_1 (<span style=\"color: #0087ff; text-decoration-color: #0087ff\">Dense</span>)           │ (<span style=\"color: #00d7ff; text-decoration-color: #00d7ff\">None</span>, <span style=\"color: #00af00; text-decoration-color: #00af00\">32</span>)             │         <span style=\"color: #00af00; text-decoration-color: #00af00\">2,080</span> │\n",
       "├─────────────────────────────────┼────────────────────────┼───────────────┤\n",
       "│ output_layer (<span style=\"color: #0087ff; text-decoration-color: #0087ff\">Dense</span>)            │ (<span style=\"color: #00d7ff; text-decoration-color: #00d7ff\">None</span>, <span style=\"color: #00af00; text-decoration-color: #00af00\">1</span>)              │            <span style=\"color: #00af00; text-decoration-color: #00af00\">33</span> │\n",
       "└─────────────────────────────────┴────────────────────────┴───────────────┘\n",
       "</pre>\n"
      ],
      "text/plain": [
       "┏━━━━━━━━━━━━━━━━━━━━━━━━━━━━━━━━━┳━━━━━━━━━━━━━━━━━━━━━━━━┳━━━━━━━━━━━━━━━┓\n",
       "┃\u001b[1m \u001b[0m\u001b[1mLayer (type)                   \u001b[0m\u001b[1m \u001b[0m┃\u001b[1m \u001b[0m\u001b[1mOutput Shape          \u001b[0m\u001b[1m \u001b[0m┃\u001b[1m \u001b[0m\u001b[1m      Param #\u001b[0m\u001b[1m \u001b[0m┃\n",
       "┡━━━━━━━━━━━━━━━━━━━━━━━━━━━━━━━━━╇━━━━━━━━━━━━━━━━━━━━━━━━╇━━━━━━━━━━━━━━━┩\n",
       "│ input_layer (\u001b[38;5;33mInputLayer\u001b[0m)        │ (\u001b[38;5;45mNone\u001b[0m, \u001b[38;5;34m166\u001b[0m)            │             \u001b[38;5;34m0\u001b[0m │\n",
       "├─────────────────────────────────┼────────────────────────┼───────────────┤\n",
       "│ embedding_layer (\u001b[38;5;33mEmbedding\u001b[0m)     │ (\u001b[38;5;45mNone\u001b[0m, \u001b[38;5;34m166\u001b[0m, \u001b[38;5;34m1000\u001b[0m)      │    \u001b[38;5;34m15,884,000\u001b[0m │\n",
       "├─────────────────────────────────┼────────────────────────┼───────────────┤\n",
       "│ bi_lstm_layer_1 (\u001b[38;5;33mBidirectional\u001b[0m) │ (\u001b[38;5;45mNone\u001b[0m, \u001b[38;5;34m166\u001b[0m, \u001b[38;5;34m128\u001b[0m)       │       \u001b[38;5;34m545,280\u001b[0m │\n",
       "├─────────────────────────────────┼────────────────────────┼───────────────┤\n",
       "│ dropout_layer_1 (\u001b[38;5;33mDropout\u001b[0m)       │ (\u001b[38;5;45mNone\u001b[0m, \u001b[38;5;34m166\u001b[0m, \u001b[38;5;34m128\u001b[0m)       │             \u001b[38;5;34m0\u001b[0m │\n",
       "├─────────────────────────────────┼────────────────────────┼───────────────┤\n",
       "│ bi_lstm_layer_2 (\u001b[38;5;33mBidirectional\u001b[0m) │ (\u001b[38;5;45mNone\u001b[0m, \u001b[38;5;34m64\u001b[0m)             │        \u001b[38;5;34m41,216\u001b[0m │\n",
       "├─────────────────────────────────┼────────────────────────┼───────────────┤\n",
       "│ dropout_layer_2 (\u001b[38;5;33mDropout\u001b[0m)       │ (\u001b[38;5;45mNone\u001b[0m, \u001b[38;5;34m64\u001b[0m)             │             \u001b[38;5;34m0\u001b[0m │\n",
       "├─────────────────────────────────┼────────────────────────┼───────────────┤\n",
       "│ dense_layer_1 (\u001b[38;5;33mDense\u001b[0m)           │ (\u001b[38;5;45mNone\u001b[0m, \u001b[38;5;34m32\u001b[0m)             │         \u001b[38;5;34m2,080\u001b[0m │\n",
       "├─────────────────────────────────┼────────────────────────┼───────────────┤\n",
       "│ output_layer (\u001b[38;5;33mDense\u001b[0m)            │ (\u001b[38;5;45mNone\u001b[0m, \u001b[38;5;34m1\u001b[0m)              │            \u001b[38;5;34m33\u001b[0m │\n",
       "└─────────────────────────────────┴────────────────────────┴───────────────┘\n"
      ]
     },
     "metadata": {},
     "output_type": "display_data"
    },
    {
     "data": {
      "text/html": [
       "<pre style=\"white-space:pre;overflow-x:auto;line-height:normal;font-family:Menlo,'DejaVu Sans Mono',consolas,'Courier New',monospace\"><span style=\"font-weight: bold\"> Total params: </span><span style=\"color: #00af00; text-decoration-color: #00af00\">16,472,609</span> (62.84 MB)\n",
       "</pre>\n"
      ],
      "text/plain": [
       "\u001b[1m Total params: \u001b[0m\u001b[38;5;34m16,472,609\u001b[0m (62.84 MB)\n"
      ]
     },
     "metadata": {},
     "output_type": "display_data"
    },
    {
     "data": {
      "text/html": [
       "<pre style=\"white-space:pre;overflow-x:auto;line-height:normal;font-family:Menlo,'DejaVu Sans Mono',consolas,'Courier New',monospace\"><span style=\"font-weight: bold\"> Trainable params: </span><span style=\"color: #00af00; text-decoration-color: #00af00\">16,472,609</span> (62.84 MB)\n",
       "</pre>\n"
      ],
      "text/plain": [
       "\u001b[1m Trainable params: \u001b[0m\u001b[38;5;34m16,472,609\u001b[0m (62.84 MB)\n"
      ]
     },
     "metadata": {},
     "output_type": "display_data"
    },
    {
     "data": {
      "text/html": [
       "<pre style=\"white-space:pre;overflow-x:auto;line-height:normal;font-family:Menlo,'DejaVu Sans Mono',consolas,'Courier New',monospace\"><span style=\"font-weight: bold\"> Non-trainable params: </span><span style=\"color: #00af00; text-decoration-color: #00af00\">0</span> (0.00 B)\n",
       "</pre>\n"
      ],
      "text/plain": [
       "\u001b[1m Non-trainable params: \u001b[0m\u001b[38;5;34m0\u001b[0m (0.00 B)\n"
      ]
     },
     "metadata": {},
     "output_type": "display_data"
    }
   ],
   "source": [
    "EMBEDDING_DIM = 1000\n",
    "DROPOUT_RATE = .5\n",
    "\n",
    "model = create_and_compile_model(\n",
    "    MAX_LEN, \n",
    "    VOCAB_SIZE, \n",
    "    EMBEDDING_DIM, \n",
    "    dropout_rate=DROPOUT_RATE, \n",
    "    lr=1e-2\n",
    ")\n",
    "model.summary()"
   ]
  },
  {
   "cell_type": "code",
   "execution_count": null,
   "id": "cbea468b-7de2-4769-8a6c-7cae6f2ec47c",
   "metadata": {
    "scrolled": true
   },
   "outputs": [],
   "source": [
    "checkpoint_cb = ModelCheckpoint('../models/lstm_model.keras', save_best_only=True)\n",
    "early_stopping_cb = EarlyStopping(patience=50, restore_best_weights=True)\n",
    "\n",
    "history = model.fit(\n",
    "    train_set, \n",
    "    epochs=25, \n",
    "    validation_data=valid_set, \n",
    "    callbacks=[checkpoint_cb, early_stopping_cb],\n",
    "    verbose=2\n",
    ")"
   ]
  },
  {
   "cell_type": "code",
   "execution_count": null,
   "id": "cb4e336a-fb3c-4484-8a03-f84e11195162",
   "metadata": {},
   "outputs": [],
   "source": [
    "plot_history(history, 'accuracy')"
   ]
  },
  {
   "cell_type": "code",
   "execution_count": null,
   "id": "c0c5d157-8e30-401f-b9c3-22f86f5992ae",
   "metadata": {},
   "outputs": [],
   "source": []
  }
 ],
 "metadata": {
  "kernelspec": {
   "display_name": "Python 3 (ipykernel)",
   "language": "python",
   "name": "python3"
  },
  "language_info": {
   "codemirror_mode": {
    "name": "ipython",
    "version": 3
   },
   "file_extension": ".py",
   "mimetype": "text/x-python",
   "name": "python",
   "nbconvert_exporter": "python",
   "pygments_lexer": "ipython3",
   "version": "3.11.5"
  }
 },
 "nbformat": 4,
 "nbformat_minor": 5
}
