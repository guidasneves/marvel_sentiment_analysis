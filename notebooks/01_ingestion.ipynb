{
 "cells": [
  {
   "cell_type": "markdown",
   "id": "bf7e9705-821e-49ad-a64b-724fd5a8b4c4",
   "metadata": {},
   "source": [
    "# Ingestion Step (Etapa de Ingestão)\n",
    "**[EN-US]**\n",
    "\n",
    "Data ingestion step.\n",
    "\n",
    "Extracting data from the [Marvel API](https://developer.marvel.com/), initial transformation of this data and loading it to disk.\n",
    "\n",
    "**[PT-BR]**\n",
    "\n",
    "Etapa da ingestão dos dados.\n",
    "\n",
    "Extração dos dados da [API da Marvel](https://developer.marvel.com/), transformação inicial desses dados e carregamento no disco."
   ]
  },
  {
   "cell_type": "markdown",
   "id": "8963adbc-5079-45f2-8d78-dc3090c104a3",
   "metadata": {},
   "source": [
    "## Table of Contents\n",
    "* [Packages](#1)\n",
    "* [Environment Variables](#2)\n",
    "* [Extract, Transform and Load (ETL)](#3)\n",
    "    * [Data Extract](#3.1)\n",
    "    * [Data Transform](#3.2)\n",
    "        * [Data Labeling](#3.2.1)\n",
    "            * [Zero-Shot Learning](#3.2.1.1)\n",
    "    * [Data Load](#3.3)"
   ]
  },
  {
   "cell_type": "markdown",
   "id": "b91e510b-cc33-4b0a-8dba-b0ecd264ab09",
   "metadata": {},
   "source": [
    "<a name=\"1\"></a>\n",
    "## Packages (Pacotes)\n",
    "**[EN-US]**\n",
    "\n",
    "Packages used in the system.\n",
    "* [os](https://docs.python.org/3/library/os.html): built-in module, provides a portable way of using operating system dependent functionality;\n",
    "* [sys](https://docs.python.org/3/library/sys.html): provides access to some variables used or maintained by the interpreter and to functions that interact strongly with the interpreter;\n",
    "* [requests](https://pypi.org/project/requests/): is a simple HTTP library, for making HTTP requests;\n",
    "* [haslib](https://docs.python.org/3/library/hashlib.html): implements a common interface to many different secure hash and message digest algorithms;\n",
    "* [time](https://docs.python.org/3/library/time.html): provides various time-related functions;\n",
    "* [dotenv](https://pypi.org/project/python-dotenv/): reads key-value pairs from a .env file and can set them as environment variables;\n",
    "* [pandas](https://pandas.pydata.org/): is the main package for data manipulation;\n",
    "* [numpy](www.numpy.org): is the main package for scientific computing;\n",
    "* [transformers](https://huggingface.co/docs/transformers/index): provides APIs and tools to easily download and train state-of-the-art pretrained models;\n",
    "* [src](../src/): package with all the codes for all utility functions created for this system.\n",
    "\n",
    "**[PT-BR]**\n",
    "\n",
    "Pacotes utilizados no sistema.\n",
    "* [os](https://docs.python.org/3/library/os.html): módulo integrado, fornece uma maneira portátil de usar funcionalidades dependentes do sistema operacional;\n",
    "* [sys](https://docs.python.org/3/library/sys.html): fornece acesso a algumas variáveis usadas ou mantidas pelo interpretador e a funções que interagem fortemente com o interpretador;\n",
    "* [requests](https://pypi.org/project/requests/): é uma biblioteca HTTP simples, para fazer solicitações HTTP;\n",
    "* [haslib](https://docs.python.org/3/library/hashlib.html): implementa uma interface comum para muitos algoritmos diferentes de hash seguro e resumo de mensagens;\n",
    "* [time](https://docs.python.org/3/library/time.html): fornece várias funções relacionadas ao tempo;\n",
    "* [dotenv](https://pypi.org/project/python-dotenv/): lê pares de chave-valor de um arquivo .env e pode defini-los como variáveis de ambiente;\n",
    "* [pandas](https://pandas.pydata.org/): é o principal pacote para manipulação de dados;\n",
    "* [numpy](www.numpy.org): é o principal pacote para computação científica;\n",
    "* [transformers](https://huggingface.co/docs/transformers/index): fornece APIs e ferramentas para baixar e treinar facilmente modelos pré-treinados de última geração;\n",
    "* [src](../src/): pacote com todos os códigos de todas as funções utilitárias criadas para esse sistema."
   ]
  },
  {
   "cell_type": "code",
   "execution_count": 15,
   "id": "1e0868b2-3bc4-4bd1-bd19-a2184f39df1b",
   "metadata": {},
   "outputs": [],
   "source": [
    "import os\n",
    "import sys\n",
    "from dotenv import load_dotenv\n",
    "load_dotenv()\n",
    "\n",
    "import pandas as pd\n",
    "import numpy as np\n",
    "from transformers import pipeline\n",
    "\n",
    "PROJECT_ROOT = os.path.abspath( # Getting Obtaining the absolute normalized version of the project root path (Obtendo a versão absoluta normalizada do path raíz do projeto)\n",
    "    os.path.join( # Concatenating the paths (Concatenando os paths)\n",
    "        os.getcwd(), # # Getting the path of the notebooks directory (Obtendo o path do diretório dos notebooks)\n",
    "        os.pardir # Gettin the constant string used by the OS to refer to the parent directory (Obtendo a string constante usada pelo OS para fazer referência ao diretório pai)\n",
    "    )\n",
    ")\n",
    "# Adding path to the list of strings that specify the search path for modules\n",
    "# Adicionando o path à lista de strings que especifica o path de pesquisa para os módulos\n",
    "sys.path.append(PROJECT_ROOT)\n",
    "from src.ingestion import *"
   ]
  },
  {
   "cell_type": "markdown",
   "id": "5893173b-1680-402b-9058-008d544622d5",
   "metadata": {},
   "source": [
    "**[EN-US]**\n",
    "\n",
    "> **Note**: the codes for the utility functions used in this system are in the `ingestion.py` script within the `../src/` directory.\n",
    "\n",
    "**[PT-BR]**\n",
    "\n",
    "> **Nota**: os códigos para as funções utilitárias utilizadas nesse sistema estão no script `ingestion.py` dentro do diretório `../src/`."
   ]
  },
  {
   "cell_type": "markdown",
   "id": "c76f6d54-ee3b-4eec-8114-b1d943ee4183",
   "metadata": {},
   "source": [
    "<a name=\"3\"></a>\n",
    "## Environment Variables (Variáveis de Ambiente)\n",
    "**[EN-US]**\n",
    "\n",
    "Setting the environment variables:\n",
    "* `MARVEL_PUBLIC_KEY`: the public key for connecting and using the APIs.\n",
    "* `MARVEL_PRIVATE_KEY`: the private key for connecting and using the APIs.\n",
    "\n",
    "**[PT-BR]**\n",
    "\n",
    "Definindo as variáveis de ambiente:\n",
    "* `MARVEL_PUBLIC_KEY`: a public key para conexão e uso das APIs.\n",
    "* `MARVEL_PRIVATE_KEY`: a private key para conexão e uso das APIs."
   ]
  },
  {
   "cell_type": "code",
   "execution_count": 16,
   "id": "f333179a-a5c7-4911-beb5-6650554ede46",
   "metadata": {},
   "outputs": [],
   "source": [
    "PUBLIC_KEY = str(os.environ['MARVEL_PUBLIC_KEY'])\n",
    "PRIVATE_KEY = str(os.environ['MARVEL_PRIVATE_KEY'])"
   ]
  },
  {
   "cell_type": "markdown",
   "id": "06c58f20-8fb9-4c27-852e-91fef8626f3c",
   "metadata": {},
   "source": [
    "<a name=\"3\"></a>\n",
    "## Extract, Transform and Load (Extração, Transformação e Carregamento)\n",
    "**[EN-US]**\n",
    "\n",
    "ETL (Extract, Transform and Load), requesting authorization from Marvel, extracting data from Marvel characters and comics, transforming this data and loading the data to disk.\n",
    "\n",
    "**[PT-BR]**\n",
    "\n",
    "ETL (Extração, Transformação e Carregamento), requisitando a autorização da Marvel, extraindo os dados dos personagens e dos comics da Marvel, transformando esses dados e carregamando os dados no disco."
   ]
  },
  {
   "cell_type": "markdown",
   "id": "93355ae6-b082-4ebf-9d06-b08bb052b1a3",
   "metadata": {},
   "source": [
    "<a name=\"3.1\"></a>\n",
    "### Data Extract (Extração dos Dados)\n",
    "**[EN-US]**\n",
    "\n",
    "Initializing the `MarvelIngestion` class, which is composed of the `get_params` function, which defines the variables, hash and parameters for the API request, the `__call__` method that performs the connection and the API call to extract the requested data.\n",
    "\n",
    "**[PT-BR]**\n",
    "\n",
    "Inicializando a classe `MarvelIngestion`, que é composta pela função `get_params`, que define as variáveis, o hash e os parâmetros para a requisição à API, o método `__call__` que realiza a conexão e a chamada à API para extrair os dados solicitados."
   ]
  },
  {
   "cell_type": "code",
   "execution_count": 234,
   "id": "684bee22-0c2a-4701-8334-bef63ab92166",
   "metadata": {
    "scrolled": true
   },
   "outputs": [],
   "source": [
    "ingestion = MarvelIngestion(PUBLIC_KEY, PRIVATE_KEY)"
   ]
  },
  {
   "cell_type": "markdown",
   "id": "0437056a-84eb-4858-8043-fe6af2dbcb50",
   "metadata": {},
   "source": [
    "**[EN-US]**\n",
    "\n",
    "Extracting data from comics and their respective descriptions and then projecting the first 5 examples from the dataset of comics `df_comics`.\n",
    "\n",
    "**[PT-BR]**\n",
    "\n",
    "Extraindo os dados dos comics e, suas respectivas descrições e, em seguida, projetando os 5 primeiros exemplos do dataset dos comics `df_comics`."
   ]
  },
  {
   "cell_type": "code",
   "execution_count": 71,
   "id": "bb04c25f-2675-4943-b81b-565afbba4d09",
   "metadata": {},
   "outputs": [
    {
     "name": "stdout",
     "output_type": "stream",
     "text": [
      "Comics dataset dimension: (18802, 3)\n"
     ]
    },
    {
     "data": {
      "text/html": [
       "<div>\n",
       "<style scoped>\n",
       "    .dataframe tbody tr th:only-of-type {\n",
       "        vertical-align: middle;\n",
       "    }\n",
       "\n",
       "    .dataframe tbody tr th {\n",
       "        vertical-align: top;\n",
       "    }\n",
       "\n",
       "    .dataframe thead th {\n",
       "        text-align: right;\n",
       "    }\n",
       "</style>\n",
       "<table border=\"1\" class=\"dataframe\">\n",
       "  <thead>\n",
       "    <tr style=\"text-align: right;\">\n",
       "      <th></th>\n",
       "      <th>id</th>\n",
       "      <th>title</th>\n",
       "      <th>description</th>\n",
       "    </tr>\n",
       "  </thead>\n",
       "  <tbody>\n",
       "    <tr>\n",
       "      <th>0</th>\n",
       "      <td>94799</td>\n",
       "      <td>Demon Days: Mariko (2021) #1 (Variant)</td>\n",
       "      <td>IN THE SHADOW OF KIRISAKI MOUNTAIN?A SECRET HI...</td>\n",
       "    </tr>\n",
       "    <tr>\n",
       "      <th>1</th>\n",
       "      <td>94801</td>\n",
       "      <td>Demon Days: Mariko (2021) #1 (Variant)</td>\n",
       "      <td>IN THE SHADOW OF KIRISAKI MOUNTAIN?A SECRET HI...</td>\n",
       "    </tr>\n",
       "    <tr>\n",
       "      <th>2</th>\n",
       "      <td>94802</td>\n",
       "      <td>Demon Days: Mariko (2021) #1 (Variant)</td>\n",
       "      <td>IN THE SHADOW OF KIRISAKI MOUNTAIN?A SECRET HI...</td>\n",
       "    </tr>\n",
       "    <tr>\n",
       "      <th>3</th>\n",
       "      <td>94803</td>\n",
       "      <td>Demon Days: Mariko (2021) #1 (Variant)</td>\n",
       "      <td>IN THE SHADOW OF KIRISAKI MOUNTAIN?A SECRET HI...</td>\n",
       "    </tr>\n",
       "    <tr>\n",
       "      <th>4</th>\n",
       "      <td>94804</td>\n",
       "      <td>Demon Days: Mariko (2021) #1 (Variant)</td>\n",
       "      <td>IN THE SHADOW OF KIRISAKI MOUNTAIN?A SECRET HI...</td>\n",
       "    </tr>\n",
       "  </tbody>\n",
       "</table>\n",
       "</div>"
      ],
      "text/plain": [
       "      id                                   title  \\\n",
       "0  94799  Demon Days: Mariko (2021) #1 (Variant)   \n",
       "1  94801  Demon Days: Mariko (2021) #1 (Variant)   \n",
       "2  94802  Demon Days: Mariko (2021) #1 (Variant)   \n",
       "3  94803  Demon Days: Mariko (2021) #1 (Variant)   \n",
       "4  94804  Demon Days: Mariko (2021) #1 (Variant)   \n",
       "\n",
       "                                         description  \n",
       "0  IN THE SHADOW OF KIRISAKI MOUNTAIN?A SECRET HI...  \n",
       "1  IN THE SHADOW OF KIRISAKI MOUNTAIN?A SECRET HI...  \n",
       "2  IN THE SHADOW OF KIRISAKI MOUNTAIN?A SECRET HI...  \n",
       "3  IN THE SHADOW OF KIRISAKI MOUNTAIN?A SECRET HI...  \n",
       "4  IN THE SHADOW OF KIRISAKI MOUNTAIN?A SECRET HI...  "
      ]
     },
     "execution_count": 71,
     "metadata": {},
     "output_type": "execute_result"
    }
   ],
   "source": [
    "df_comics = ingestion(endpoint='comics', format_='comic')\n",
    "print(f'Comics dataset dimension: {df_comics.shape}')\n",
    "df_comics.head()"
   ]
  },
  {
   "cell_type": "markdown",
   "id": "f8e41d82-5132-40bf-a38b-717c5da101a3",
   "metadata": {},
   "source": [
    "<a name=\"3.2\"></a>\n",
    "### Data Transform (Transformação dos Dados)\n",
    "**[EN-US]**\n",
    "\n",
    "As we can see above, the `title` and `description` features of the comics dataset have duplicate data, regardless of whether their `id` is different. So let's delete these duplicate examples.\n",
    "\n",
    "First, let's transform the `id` feature into the index of this dataset to count duplicate examples between the `title` and `description` features.\n",
    "\n",
    "**[PT-BR]**\n",
    "\n",
    "Como podemos ver acima, as features `title` e `description` do dataset dos comics tem dados duplicados, independente se o seu `id` é diferente. Portanto, vamos excluir esses exemplos duplicados.\n",
    "\n",
    "Primeiro, vamos transformar a feature `id` no índice desse dataset para contar os exemplos duplicados entre as features `title` e `description`."
   ]
  },
  {
   "cell_type": "code",
   "execution_count": 90,
   "id": "10a8504e-3458-421c-87d6-cd9e95ddac87",
   "metadata": {},
   "outputs": [
    {
     "data": {
      "text/html": [
       "<div>\n",
       "<style scoped>\n",
       "    .dataframe tbody tr th:only-of-type {\n",
       "        vertical-align: middle;\n",
       "    }\n",
       "\n",
       "    .dataframe tbody tr th {\n",
       "        vertical-align: top;\n",
       "    }\n",
       "\n",
       "    .dataframe thead th {\n",
       "        text-align: right;\n",
       "    }\n",
       "</style>\n",
       "<table border=\"1\" class=\"dataframe\">\n",
       "  <thead>\n",
       "    <tr style=\"text-align: right;\">\n",
       "      <th></th>\n",
       "      <th>title</th>\n",
       "      <th>description</th>\n",
       "    </tr>\n",
       "    <tr>\n",
       "      <th>id</th>\n",
       "      <th></th>\n",
       "      <th></th>\n",
       "    </tr>\n",
       "  </thead>\n",
       "  <tbody>\n",
       "    <tr>\n",
       "      <th>94799</th>\n",
       "      <td>Demon Days: Mariko (2021) #1 (Variant)</td>\n",
       "      <td>IN THE SHADOW OF KIRISAKI MOUNTAIN?A SECRET HI...</td>\n",
       "    </tr>\n",
       "    <tr>\n",
       "      <th>94801</th>\n",
       "      <td>Demon Days: Mariko (2021) #1 (Variant)</td>\n",
       "      <td>IN THE SHADOW OF KIRISAKI MOUNTAIN?A SECRET HI...</td>\n",
       "    </tr>\n",
       "    <tr>\n",
       "      <th>94802</th>\n",
       "      <td>Demon Days: Mariko (2021) #1 (Variant)</td>\n",
       "      <td>IN THE SHADOW OF KIRISAKI MOUNTAIN?A SECRET HI...</td>\n",
       "    </tr>\n",
       "    <tr>\n",
       "      <th>94803</th>\n",
       "      <td>Demon Days: Mariko (2021) #1 (Variant)</td>\n",
       "      <td>IN THE SHADOW OF KIRISAKI MOUNTAIN?A SECRET HI...</td>\n",
       "    </tr>\n",
       "    <tr>\n",
       "      <th>94804</th>\n",
       "      <td>Demon Days: Mariko (2021) #1 (Variant)</td>\n",
       "      <td>IN THE SHADOW OF KIRISAKI MOUNTAIN?A SECRET HI...</td>\n",
       "    </tr>\n",
       "  </tbody>\n",
       "</table>\n",
       "</div>"
      ],
      "text/plain": [
       "                                        title  \\\n",
       "id                                              \n",
       "94799  Demon Days: Mariko (2021) #1 (Variant)   \n",
       "94801  Demon Days: Mariko (2021) #1 (Variant)   \n",
       "94802  Demon Days: Mariko (2021) #1 (Variant)   \n",
       "94803  Demon Days: Mariko (2021) #1 (Variant)   \n",
       "94804  Demon Days: Mariko (2021) #1 (Variant)   \n",
       "\n",
       "                                             description  \n",
       "id                                                        \n",
       "94799  IN THE SHADOW OF KIRISAKI MOUNTAIN?A SECRET HI...  \n",
       "94801  IN THE SHADOW OF KIRISAKI MOUNTAIN?A SECRET HI...  \n",
       "94802  IN THE SHADOW OF KIRISAKI MOUNTAIN?A SECRET HI...  \n",
       "94803  IN THE SHADOW OF KIRISAKI MOUNTAIN?A SECRET HI...  \n",
       "94804  IN THE SHADOW OF KIRISAKI MOUNTAIN?A SECRET HI...  "
      ]
     },
     "execution_count": 90,
     "metadata": {},
     "output_type": "execute_result"
    }
   ],
   "source": [
    "df_comics = df_comics.set_index('id')\n",
    "df_comics.head()"
   ]
  },
  {
   "cell_type": "markdown",
   "id": "c4e409f3-5eeb-4c7a-a2d6-472d0f5b8aa7",
   "metadata": {},
   "source": [
    "Counting duplicate examples (Contando os exemplos duplicados)."
   ]
  },
  {
   "cell_type": "code",
   "execution_count": 93,
   "id": "1cc32ce5-01d6-472e-a16a-2896e8ffd032",
   "metadata": {},
   "outputs": [
    {
     "name": "stdout",
     "output_type": "stream",
     "text": [
      "Number of duplicate examples: 1069\n"
     ]
    }
   ],
   "source": [
    "print(f'Number of duplicate examples: {df_comics.duplicated().sum()}')"
   ]
  },
  {
   "cell_type": "markdown",
   "id": "6e12d7ce-e23f-4962-bf1d-e1300baf1c08",
   "metadata": {},
   "source": [
    "Dropping duplicate examples (Deletando os exemplos duplicados)."
   ]
  },
  {
   "cell_type": "code",
   "execution_count": 141,
   "id": "43b548a6-365f-4dab-b9a6-e10ac7f46d9d",
   "metadata": {},
   "outputs": [
    {
     "name": "stdout",
     "output_type": "stream",
     "text": [
      "Number of duplicate examples: 0\n"
     ]
    },
    {
     "data": {
      "text/html": [
       "<div>\n",
       "<style scoped>\n",
       "    .dataframe tbody tr th:only-of-type {\n",
       "        vertical-align: middle;\n",
       "    }\n",
       "\n",
       "    .dataframe tbody tr th {\n",
       "        vertical-align: top;\n",
       "    }\n",
       "\n",
       "    .dataframe thead th {\n",
       "        text-align: right;\n",
       "    }\n",
       "</style>\n",
       "<table border=\"1\" class=\"dataframe\">\n",
       "  <thead>\n",
       "    <tr style=\"text-align: right;\">\n",
       "      <th></th>\n",
       "      <th>id</th>\n",
       "      <th>title</th>\n",
       "      <th>description</th>\n",
       "    </tr>\n",
       "  </thead>\n",
       "  <tbody>\n",
       "    <tr>\n",
       "      <th>0</th>\n",
       "      <td>94799</td>\n",
       "      <td>Demon Days: Mariko (2021) #1 (Variant)</td>\n",
       "      <td>IN THE SHADOW OF KIRISAKI MOUNTAIN?A SECRET HI...</td>\n",
       "    </tr>\n",
       "    <tr>\n",
       "      <th>1</th>\n",
       "      <td>93339</td>\n",
       "      <td>The Mighty Valkyries (2021) #3</td>\n",
       "      <td>CHILDREN OF THE AFTERLIFE! While Kraven the Hu...</td>\n",
       "    </tr>\n",
       "    <tr>\n",
       "      <th>2</th>\n",
       "      <td>94884</td>\n",
       "      <td>The Mighty Valkyries (2021) #3 (Variant)</td>\n",
       "      <td>CHILDREN OF THE AFTERLIFE! While Kraven the Hu...</td>\n",
       "    </tr>\n",
       "    <tr>\n",
       "      <th>3</th>\n",
       "      <td>93350</td>\n",
       "      <td>X-Corp (2021) #2</td>\n",
       "      <td>A SHARK IN THE WATER! After X-CORP’s shocking ...</td>\n",
       "    </tr>\n",
       "    <tr>\n",
       "      <th>4</th>\n",
       "      <td>94896</td>\n",
       "      <td>X-Corp (2021) #2 (Variant)</td>\n",
       "      <td>A SHARK IN THE WATER! After X-CORP?s shocking ...</td>\n",
       "    </tr>\n",
       "  </tbody>\n",
       "</table>\n",
       "</div>"
      ],
      "text/plain": [
       "      id                                     title  \\\n",
       "0  94799    Demon Days: Mariko (2021) #1 (Variant)   \n",
       "1  93339            The Mighty Valkyries (2021) #3   \n",
       "2  94884  The Mighty Valkyries (2021) #3 (Variant)   \n",
       "3  93350                          X-Corp (2021) #2   \n",
       "4  94896                X-Corp (2021) #2 (Variant)   \n",
       "\n",
       "                                         description  \n",
       "0  IN THE SHADOW OF KIRISAKI MOUNTAIN?A SECRET HI...  \n",
       "1  CHILDREN OF THE AFTERLIFE! While Kraven the Hu...  \n",
       "2  CHILDREN OF THE AFTERLIFE! While Kraven the Hu...  \n",
       "3  A SHARK IN THE WATER! After X-CORP’s shocking ...  \n",
       "4  A SHARK IN THE WATER! After X-CORP?s shocking ...  "
      ]
     },
     "execution_count": 141,
     "metadata": {},
     "output_type": "execute_result"
    }
   ],
   "source": [
    "df_comics = df_comics.drop_duplicates()\n",
    "print(f'Number of duplicate examples: {df_comics.duplicated().sum()}')\n",
    "df_comics = df_comics.reset_index().drop(columns=['index'])\n",
    "df_comics.head()"
   ]
  },
  {
   "cell_type": "markdown",
   "id": "6b09f0ab-e4c1-402e-849d-13032485e356",
   "metadata": {},
   "source": [
    "Checking duplicates only for the `description` feature of each comic (Checando as duplicatas apenas para a feature `description` de cada comic)."
   ]
  },
  {
   "cell_type": "code",
   "execution_count": 184,
   "id": "8d6c22f1-8588-417d-a871-de6bf47f7f61",
   "metadata": {},
   "outputs": [
    {
     "name": "stdout",
     "output_type": "stream",
     "text": [
      "Number of duplicate examples: 806\n",
      "dataset dimension: (17733, 3)\n"
     ]
    }
   ],
   "source": [
    "print(f'Number of duplicate examples: {df_comics[[\"description\"]].duplicated().sum()}\\ndataset dimension: {df_comics.shape}')"
   ]
  },
  {
   "cell_type": "markdown",
   "id": "87ce94dd-182e-4caf-828c-c4678cce9aee",
   "metadata": {},
   "source": [
    "Dropping duplicate examples (Deletando os exemplos duplicados)."
   ]
  },
  {
   "cell_type": "code",
   "execution_count": 187,
   "id": "ab2d55e4-dff5-4c3c-8a99-0cdc80021da4",
   "metadata": {},
   "outputs": [
    {
     "data": {
      "text/plain": [
       "(16927, 3)"
      ]
     },
     "execution_count": 187,
     "metadata": {},
     "output_type": "execute_result"
    }
   ],
   "source": [
    "df_comics = df_comics.drop_duplicates('description')\n",
    "df_comics.shape"
   ]
  },
  {
   "cell_type": "markdown",
   "id": "7106a232-3833-4bc3-b4ff-372102ade276",
   "metadata": {},
   "source": [
    "Checking duplicates only for the `description` of each comic after deleting duplicate examples (Checando as duplicatas apenas para a `description` de cada comic após excluir os exemplos duplicados)."
   ]
  },
  {
   "cell_type": "code",
   "execution_count": 165,
   "id": "a8b75014-b44d-4ee9-9a3b-133574466cdd",
   "metadata": {},
   "outputs": [
    {
     "name": "stdout",
     "output_type": "stream",
     "text": [
      "Number of duplicate examples: 0\n"
     ]
    },
    {
     "data": {
      "text/html": [
       "<div>\n",
       "<style scoped>\n",
       "    .dataframe tbody tr th:only-of-type {\n",
       "        vertical-align: middle;\n",
       "    }\n",
       "\n",
       "    .dataframe tbody tr th {\n",
       "        vertical-align: top;\n",
       "    }\n",
       "\n",
       "    .dataframe thead th {\n",
       "        text-align: right;\n",
       "    }\n",
       "</style>\n",
       "<table border=\"1\" class=\"dataframe\">\n",
       "  <thead>\n",
       "    <tr style=\"text-align: right;\">\n",
       "      <th></th>\n",
       "      <th>id</th>\n",
       "      <th>title</th>\n",
       "      <th>description</th>\n",
       "    </tr>\n",
       "  </thead>\n",
       "  <tbody>\n",
       "    <tr>\n",
       "      <th>0</th>\n",
       "      <td>94799</td>\n",
       "      <td>Demon Days: Mariko (2021) #1 (Variant)</td>\n",
       "      <td>IN THE SHADOW OF KIRISAKI MOUNTAIN?A SECRET HI...</td>\n",
       "    </tr>\n",
       "    <tr>\n",
       "      <th>1</th>\n",
       "      <td>93339</td>\n",
       "      <td>The Mighty Valkyries (2021) #3</td>\n",
       "      <td>CHILDREN OF THE AFTERLIFE! While Kraven the Hu...</td>\n",
       "    </tr>\n",
       "    <tr>\n",
       "      <th>2</th>\n",
       "      <td>94884</td>\n",
       "      <td>The Mighty Valkyries (2021) #3 (Variant)</td>\n",
       "      <td>CHILDREN OF THE AFTERLIFE! While Kraven the Hu...</td>\n",
       "    </tr>\n",
       "    <tr>\n",
       "      <th>3</th>\n",
       "      <td>93350</td>\n",
       "      <td>X-Corp (2021) #2</td>\n",
       "      <td>A SHARK IN THE WATER! After X-CORP’s shocking ...</td>\n",
       "    </tr>\n",
       "    <tr>\n",
       "      <th>4</th>\n",
       "      <td>94896</td>\n",
       "      <td>X-Corp (2021) #2 (Variant)</td>\n",
       "      <td>A SHARK IN THE WATER! After X-CORP?s shocking ...</td>\n",
       "    </tr>\n",
       "  </tbody>\n",
       "</table>\n",
       "</div>"
      ],
      "text/plain": [
       "      id                                     title  \\\n",
       "0  94799    Demon Days: Mariko (2021) #1 (Variant)   \n",
       "1  93339            The Mighty Valkyries (2021) #3   \n",
       "2  94884  The Mighty Valkyries (2021) #3 (Variant)   \n",
       "3  93350                          X-Corp (2021) #2   \n",
       "4  94896                X-Corp (2021) #2 (Variant)   \n",
       "\n",
       "                                         description  \n",
       "0  IN THE SHADOW OF KIRISAKI MOUNTAIN?A SECRET HI...  \n",
       "1  CHILDREN OF THE AFTERLIFE! While Kraven the Hu...  \n",
       "2  CHILDREN OF THE AFTERLIFE! While Kraven the Hu...  \n",
       "3  A SHARK IN THE WATER! After X-CORP’s shocking ...  \n",
       "4  A SHARK IN THE WATER! After X-CORP?s shocking ...  "
      ]
     },
     "execution_count": 165,
     "metadata": {},
     "output_type": "execute_result"
    }
   ],
   "source": [
    "print(f'Number of duplicate examples: {df_comics[[\"description\"]].duplicated().sum()}')\n",
    "df_comics.head()"
   ]
  },
  {
   "cell_type": "markdown",
   "id": "d7e7b9ca-08f7-4a84-a652-20dd1ea9b93b",
   "metadata": {},
   "source": [
    "**[EN-US]**\n",
    "\n",
    "We have 0 duplicates, but we can see some duplicate examples in the `description` feature, let's analyze this in more detail.\n",
    "\n",
    "**[PT-BR]**\n",
    "\n",
    "Estamos com 0 duplicatas, mas podemos ver alguns exemplos duplicados na feature `description`, vamos analisar isso com mais detalhes."
   ]
  },
  {
   "cell_type": "code",
   "execution_count": 170,
   "id": "8c82b04e-3cee-4534-9fb3-723d1ae7fccb",
   "metadata": {},
   "outputs": [
    {
     "name": "stdout",
     "output_type": "stream",
     "text": [
      "Some example:\n",
      "CHILDREN OF THE AFTERLIFE! While Kraven the Hunter stalks Jane Foster on Midgard and the newest Valkyrie fights for her soul on Perdita, Karnilla, the queen of Hel, works a miracle in the land of the dead! But Karnilla isn’t Hel’s only ruler—and now she’s upset the cosmic balance. There will be a price to pay…and Karnilla intends to ensure the Valkyries pay it.\n",
      "\n",
      "Duplicated example:\n",
      "CHILDREN OF THE AFTERLIFE! While Kraven the Hunter stalks Jane Foster on Midgard and the newest Valkyrie fights for her soul on Perdita, Karnilla, the queen of Hel, works a miracle in the land of the dead! But Karnilla isn?t Hel?s only ruler?and now she?s upset the cosmic balance. There will be a price to pay?and Karnilla intends to ensure the Valkyries pay it.\n"
     ]
    }
   ],
   "source": [
    "print(f'Some example:\\n{df_comics[\"description\"][1]}\\n')\n",
    "print(f'Duplicated example:\\n{df_comics[\"description\"][2]}')"
   ]
  },
  {
   "cell_type": "markdown",
   "id": "872138e2-ffb3-4d6c-94d5-b17a0b385413",
   "metadata": {},
   "source": [
    "**[EN-US]**\n",
    "\n",
    "What differentiates duplicate examples are some punctuations. Therefore, we will not address this issue now. This issue will be addressed later in the preprocessing of this data.\n",
    "\n",
    "**[PT-BR]**\n",
    "\n",
    "O que diferencia os exemplos duplicados são algumas pontuações. Portanto, não vamos tratar esse problema agora. Esse problema será tratado posteriormente no pré-processamento desses dados."
   ]
  },
  {
   "cell_type": "markdown",
   "id": "d668840c-f090-4f3f-8feb-3a514abaa18b",
   "metadata": {},
   "source": [
    "<a name=\"3.2.1\"></a>\n",
    "#### Data Labeling (Rotulação de Dados)\n",
    "**[EN-US]**\n",
    "\n",
    "We need to label the extracted data without duplicates. Therefore, we can label example by example manually (we call this method `in-house`), or we find a company to label this data (we call this method `outsourced`), or we use a crowdsourcing platform, so that a large group collectively labels the data (we call this method `crowdsourced`), or we use the `zero-shot learning` method, which was the method used in this system.\n",
    "\n",
    "**[PT-BR]**\n",
    "\n",
    "Precisamos rotular os dados extraídos e sem duplicatas. Portanto, podemos rotular exemplo por exemplo manualmente (chamamos esse método de `in-house`), ou encontramos uma empresa para rotular esses dados (chamamos esse método de `outsourced`), ou usamos uma plataforma crowdsourcing, para que um grande grupo rotule coletivamente os dados (chamamos esse método de `crowdsourced`), ou usamos o método de `zero-shot learning`, que foi o método utilizado nesse sistema."
   ]
  },
  {
   "cell_type": "markdown",
   "id": "7d4fa1e4-2d24-4772-86bb-c642a4fbbbc9",
   "metadata": {},
   "source": [
    "Setting the labels and selecting the texts from the dataset (Definindo os labels e selecionando os textos do dataset)."
   ]
  },
  {
   "cell_type": "code",
   "execution_count": 10,
   "id": "641256e1-acd6-4fa8-831e-096fcd070bb7",
   "metadata": {},
   "outputs": [
    {
     "name": "stdout",
     "output_type": "stream",
     "text": [
      "Comic corpus size: 16927\n"
     ]
    }
   ],
   "source": [
    "labels = [\n",
    "    'action',\n",
    "    'non-action',\n",
    "]\n",
    "\n",
    "corpus_comics = df_comics['description'].tolist()\n",
    "print(f'Comic corpus size: {len(corpus_comics)}')"
   ]
  },
  {
   "cell_type": "markdown",
   "id": "72879208-ffe3-4943-a0cf-85d46886c6bb",
   "metadata": {},
   "source": [
    "<a name=\"3.2.1.1\"></a>\n",
    "##### Zero-Shot Learning\n",
    "**[EN-US]**\n",
    "\n",
    "Traditionally, `zero-shot learning (ZSL)` most often referred to a fairly specific type of task: learn a classifier on one set of labels and then evaluate on a different set of labels that the classifier has never seen before. Recently, especially in NLP, it's been used much more broadly to mean get a model to do something that it wasn't explicitly trained to do. A well-known example of this is in the GPT-2 (Generative Pretrained Transformer-2, OpenAI) paper where the authors evaluate a language model on downstream tasks like machine translation without fine-tuning on these tasks directly.\n",
    "\n",
    "Let's say we have a sequence embedding model $\\phi_{\\mathrm{sent}}$, a set of possible class names $\\mathrm{C}$ and the cosine similarity metric $\\mathrm{cos}$. Then, we classify a given sequence $\\vec{x}$ according to:\n",
    "$$\\hat{c} = \\mathrm{arg} \\max_{c\\ \\epsilon\\ \\mathrm{C}} \\cos( \\phi_{\\mathrm{sent}}(\\vec{x}) Z,\\ \\phi_{\\mathrm{sent}}(c) Z)$$\n",
    "> **Reference**: [Zero-Shot Learning in Modern NLP](https://joeddav.github.io/blog/2020/05/29/ZSL.html)\n",
    "\n",
    "Therefore, we use the `zero-shot learning` method to label our data.\n",
    "\n",
    "Setting the pipeline with the `zero-shot-classification` task and the `facebook/bart-large-mnli` model.\n",
    "\n",
    "**[PT-BR]**\n",
    "\n",
    "Tradicionalmente, o `zero-shot learning (ZSL)` geralmente se referia a um tipo bastante específico de tarefa, aprender um classificador em um set de labels e depois avaliar em um set diferente de labels que o classificador nunca viu antes. Recentemente, especialmente em NLP, tem sido usado de forma muito mais ampla para significar fazer com que um modelo faça algo para o qual não foi explicitamente treinado. Um exemplo bem conhecido disso está no paper do GPT-2 (Generative Pretrained Transformer-2, OpenAI), onde os autores avaliam um modelo de linguagem em tarefas posteriores, como neural machine translation (NMT), sem fine-tuning direto nessas tarefas.\n",
    "\n",
    "Digamos que temos um modelo de embedding $\\phi_{\\mathrm{sent}}$, um set de possíveis classes $\\mathrm{C}$ e a métrica de similaridade de cosseno $\\mathrm{cos}$. Então, classificamos uma determinada sequência $\\vec{x}$ de acordo com:\n",
    "$$\\hat{c} = \\mathrm{arg} \\max_{c\\ \\epsilon\\ \\mathrm{C}} \\cos( \\phi_{\\mathrm{enviado}}(\\vec{x}) Z,\\ \\phi_{\\mathrm{enviado}}(c) Z)$$\n",
    "> **Referência**: [Zero-Shot Learning in Modern NLP](https://joeddav.github.io/blog/2020/05/29/ZSL.html)\n",
    "\n",
    "Portanto, usamos o método `zero-shot learning` para rotular os nossos dados.\n",
    "\n",
    "Definindo a pipeline com a tarefa de `zero-shot-classification` e o modelo `facebook/bart-large-mnli`."
   ]
  },
  {
   "cell_type": "code",
   "execution_count": 66,
   "id": "d1859fa3-b0e4-4dfb-ab51-c7cdf6c066a2",
   "metadata": {},
   "outputs": [
    {
     "name": "stderr",
     "output_type": "stream",
     "text": [
      "Device set to use cpu\n"
     ]
    }
   ],
   "source": [
    "pipe_bart = pipeline(\n",
    "    'zero-shot-classification',\n",
    "    model='facebook/bart-large-mnli'\n",
    ")"
   ]
  },
  {
   "cell_type": "markdown",
   "id": "403906e4-54c8-421a-8cf2-3a3b83090174",
   "metadata": {},
   "source": [
    "Running the zero-shot learning task to label the dataset data (Executando a tarefa de zero-shot learning para rotular os dados do dataset)."
   ]
  },
  {
   "cell_type": "code",
   "execution_count": 15,
   "id": "f489e67c-8b61-48e6-b212-2361b8022a84",
   "metadata": {
    "scrolled": true
   },
   "outputs": [
    {
     "name": "stdout",
     "output_type": "stream",
     "text": [
      "Comic corpus label vector size: 16927\n"
     ]
    }
   ],
   "source": [
    "output_bart_comics = pipe_bart(corpus_comics, labels)\n",
    "print(f'Comic corpus label vector size: {len(output_bart_comics)}')"
   ]
  },
  {
   "cell_type": "markdown",
   "id": "019d8ac5-0d01-497d-a071-e1a443b59e1d",
   "metadata": {},
   "source": [
    "**[EN-US]**\n",
    "\n",
    "Going through the model output, selecting the id of the label with the highest score for each example, selecting the id from the list of labels, adding it to a list to add to the final dataset and plotting the first 5 examples of the dataset.\n",
    "\n",
    "**[PT-BR]**\n",
    "\n",
    "Percorrendo o output do modelo, selecionando o id do label com o maior score de cada exemplo, selecionando o id na lista de labels, adicionando em uma lista para adicionar ao dataset final e plotando os primeiros 5 exemplos do dataset."
   ]
  },
  {
   "cell_type": "code",
   "execution_count": 31,
   "id": "1b8d7bff-46b9-4507-8011-ebd63f05b90e",
   "metadata": {
    "scrolled": true
   },
   "outputs": [
    {
     "data": {
      "text/html": [
       "<div>\n",
       "<style scoped>\n",
       "    .dataframe tbody tr th:only-of-type {\n",
       "        vertical-align: middle;\n",
       "    }\n",
       "\n",
       "    .dataframe tbody tr th {\n",
       "        vertical-align: top;\n",
       "    }\n",
       "\n",
       "    .dataframe thead th {\n",
       "        text-align: right;\n",
       "    }\n",
       "</style>\n",
       "<table border=\"1\" class=\"dataframe\">\n",
       "  <thead>\n",
       "    <tr style=\"text-align: right;\">\n",
       "      <th></th>\n",
       "      <th>id</th>\n",
       "      <th>title</th>\n",
       "      <th>description</th>\n",
       "      <th>y</th>\n",
       "    </tr>\n",
       "  </thead>\n",
       "  <tbody>\n",
       "    <tr>\n",
       "      <th>0</th>\n",
       "      <td>94799</td>\n",
       "      <td>Demon Days: Mariko (2021) #1 (Variant)</td>\n",
       "      <td>IN THE SHADOW OF KIRISAKI MOUNTAIN?A SECRET HI...</td>\n",
       "      <td>non-action</td>\n",
       "    </tr>\n",
       "    <tr>\n",
       "      <th>1</th>\n",
       "      <td>93339</td>\n",
       "      <td>The Mighty Valkyries (2021) #3</td>\n",
       "      <td>CHILDREN OF THE AFTERLIFE! While Kraven the Hu...</td>\n",
       "      <td>action</td>\n",
       "    </tr>\n",
       "    <tr>\n",
       "      <th>2</th>\n",
       "      <td>94884</td>\n",
       "      <td>The Mighty Valkyries (2021) #3 (Variant)</td>\n",
       "      <td>CHILDREN OF THE AFTERLIFE! While Kraven the Hu...</td>\n",
       "      <td>action</td>\n",
       "    </tr>\n",
       "    <tr>\n",
       "      <th>3</th>\n",
       "      <td>93350</td>\n",
       "      <td>X-Corp (2021) #2</td>\n",
       "      <td>A SHARK IN THE WATER! After X-CORP’s shocking ...</td>\n",
       "      <td>non-action</td>\n",
       "    </tr>\n",
       "    <tr>\n",
       "      <th>4</th>\n",
       "      <td>94896</td>\n",
       "      <td>X-Corp (2021) #2 (Variant)</td>\n",
       "      <td>A SHARK IN THE WATER! After X-CORP?s shocking ...</td>\n",
       "      <td>non-action</td>\n",
       "    </tr>\n",
       "  </tbody>\n",
       "</table>\n",
       "</div>"
      ],
      "text/plain": [
       "      id                                     title  \\\n",
       "0  94799    Demon Days: Mariko (2021) #1 (Variant)   \n",
       "1  93339            The Mighty Valkyries (2021) #3   \n",
       "2  94884  The Mighty Valkyries (2021) #3 (Variant)   \n",
       "3  93350                          X-Corp (2021) #2   \n",
       "4  94896                X-Corp (2021) #2 (Variant)   \n",
       "\n",
       "                                         description           y  \n",
       "0  IN THE SHADOW OF KIRISAKI MOUNTAIN?A SECRET HI...  non-action  \n",
       "1  CHILDREN OF THE AFTERLIFE! While Kraven the Hu...      action  \n",
       "2  CHILDREN OF THE AFTERLIFE! While Kraven the Hu...      action  \n",
       "3  A SHARK IN THE WATER! After X-CORP’s shocking ...  non-action  \n",
       "4  A SHARK IN THE WATER! After X-CORP?s shocking ...  non-action  "
      ]
     },
     "execution_count": 31,
     "metadata": {},
     "output_type": "execute_result"
    }
   ],
   "source": [
    "# List to store the label of each example\n",
    "# Lista para armazenar o label de cada exemplo\n",
    "labels_comic = []\n",
    "\n",
    "# Going through the model output (Percorrendo o output do modelo)\n",
    "for i in range(len(output_bart_comics)):\n",
    "    # Selecting the id of the label with the highest score for each example (Selecionando o id do label com o maior score de cada exemplo)\n",
    "    idx = np.argmax(output_bart_comics[i]['scores'])\n",
    "    # Selecting the id from the list of labels (Selecionando o id na lista de labels)\n",
    "    label = output_bart_comics[i]['labels'][idx]\n",
    "    # Adding it to a list to add to the final dataset (Adicionando em uma lista para adicionar ao dataset final)\n",
    "    labels_comic.append(label)\n",
    "\n",
    "# Adding the labels to the final dataset (Adicionando os labels ao dataset final)\n",
    "df_comics['y'] = labels_comic\n",
    "df_comics.head()"
   ]
  },
  {
   "cell_type": "markdown",
   "id": "0a896142-9b5a-492e-bcc4-d895f761280a",
   "metadata": {},
   "source": [
    "<a name=\"3.3\"></a>\n",
    "### Data Load (Carregamento dos Dados)\n",
    "Loading the dataset into the `../data/raw/` directory (Carregando o dataset no diretório `../data/raw/`)."
   ]
  },
  {
   "cell_type": "code",
   "execution_count": 34,
   "id": "5a577e91-9aa8-432b-b72e-8c968fd3ead8",
   "metadata": {},
   "outputs": [],
   "source": [
    "df_comics.to_csv('../data/raw/comics_corpus.csv', index=False)"
   ]
  }
 ],
 "metadata": {
  "kernelspec": {
   "display_name": "Python 3 (ipykernel)",
   "language": "python",
   "name": "python3"
  },
  "language_info": {
   "codemirror_mode": {
    "name": "ipython",
    "version": 3
   },
   "file_extension": ".py",
   "mimetype": "text/x-python",
   "name": "python",
   "nbconvert_exporter": "python",
   "pygments_lexer": "ipython3",
   "version": "3.11.5"
  }
 },
 "nbformat": 4,
 "nbformat_minor": 5
}
