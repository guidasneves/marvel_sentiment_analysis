{
 "cells": [
  {
   "cell_type": "markdown",
   "id": "f9928e43-0156-4890-a2fd-42ee5e0133c4",
   "metadata": {},
   "source": [
    "# RNN Model Train Step (Etapa do Treinamento do Modelo LSTM)\n",
    "**[EN-US]**\n",
    "\n",
    "Training and evaluation stage of the LSTM model, and then we save the model and its respective trained weights, and use it to make predictions on real-world data.\n",
    "\n",
    "In this step we perform:\n",
    "* Model definition;\n",
    "* Model training;\n",
    "* Model evaluation;\n",
    "* Saving the model and trained weights.\n",
    "\n",
    "**[PT-BR]**\n",
    "\n",
    "Etapa do treinamento e avaliação do modelo LSTM, para depois, salvarmos o modelo e seus respectivos pesos treinados, e usarmos para realizar a predição em dados do mundo real.\n",
    "\n",
    "Nesta etapa realizamos:\n",
    "* Definição do modelo;\n",
    "* Treinamento do modelo;\n",
    "* Avaliação do modelo;\n",
    "* Salvamento do modelo e dos pesos treinados."
   ]
  },
  {
   "cell_type": "markdown",
   "id": "707e087c-b700-4fd8-96dc-ab3cb28c8e9b",
   "metadata": {},
   "source": [
    "## Table of Contents\n",
    "* [Packages](#1)\n",
    "* [Setting](#2)\n",
    "* [RNN Model](#3)\n",
    "    * [Embedding](#3.1)\n",
    "    * [LSTM Layer](#3.2)\n",
    "* [LSTM Model Train](#4)"
   ]
  },
  {
   "cell_type": "markdown",
   "id": "d8359568-c47e-489e-95b3-fe92b4fbf658",
   "metadata": {},
   "source": [
    "<a name=\"1\"></a>\n",
    "## Packages (Pacotes)\n",
    "**[EN-US]**\n",
    "\n",
    "Packages used in the system.\n",
    "\n",
    "* [pandas](https://pandas.pydata.org/): is the main package for data manipulation;\n",
    "* [numpy](www.numpy.org): is the main package for scientific computing;\n",
    "* [pickle](https://docs.python.org/3/library/pickle.html): implements binary protocols for serializing and de-serializing a Python object structure;\n",
    "* [tensorflow](https://www.tensorflow.org/): framework that makes it easy to create ML models that can run in any environment;\n",
    "* [matplotlib](http://matplotlib.org): is a library to plot graphs;\n",
    "* [os](https://docs.python.org/3/library/os.html): built-in module, provides a portable way of using operating system dependent functionality;\n",
    "* [sys](https://docs.python.org/3/library/sys.html): provides access to some variables used or maintained by the interpreter and to functions that interact strongly with the interpreter;\n",
    "* [src](../src/): package with all the codes for all utility functions created for this system.\n",
    "\n",
    "**[PT-BR]**\n",
    "\n",
    "Pacotes utilizados no sistema.\n",
    "* [pandas](https://pandas.pydata.org/): é o principal pacote para manipulação de dados;\n",
    "* [numpy](www.numpy.org): é o principal pacote para computação científica;\n",
    "* [pickle](https://docs.python.org/3/library/pickle.html): implementa protocolos binários para serializar e desserializar uma estrutura de objeto Python;\n",
    "* [tensorflow](https://www.tensorflow.org/): framework que facilita a criação de modelos de machine learning que podem ser executados em qualquer ambiente;\n",
    "* [matplotlib](http://matplotlib.org): é uma biblioteca para plotar gráficos;\n",
    "* [os](https://docs.python.org/3/library/os.html): módulo integrado, fornece uma maneira portátil de usar funcionalidades dependentes do sistema operacional;\n",
    "* [sys](https://docs.python.org/3/library/sys.html): fornece acesso a algumas variáveis usadas ou mantidas pelo interpretador e a funções que interagem fortemente com o interpretador;\n",
    "* [src](../src/): pacote com todos os códigos de todas as funções utilitárias criadas para esse sistema."
   ]
  },
  {
   "cell_type": "code",
   "execution_count": 4,
   "id": "375d1727-909a-4086-ba17-f377c05c39ee",
   "metadata": {},
   "outputs": [],
   "source": [
    "import pandas as pd\n",
    "import numpy as np\n",
    "import pickle\n",
    "import tensorflow as tf\n",
    "from tensorflow.keras.layers import Input, Embedding, Bidirectional, LSTM, Dropout, Dense, GlobalAveragePooling1D\n",
    "from tensorflow.keras import Model\n",
    "from tensorflow.keras.optimizers import Adam\n",
    "from tensorflow.keras.callbacks import ModelCheckpoint, EarlyStopping\n",
    "from tensorflow.keras.backend import clear_session\n",
    "\n",
    "import os\n",
    "import sys\n",
    "PROJECT_ROOT = os.path.abspath( # Getting Obtaining the absolute normalized version of the project root path (Obtendo a versão absoluta normalizada do path raíz do projeto)\n",
    "    os.path.join( # Concatenating the paths (Concatenando os paths)\n",
    "        os.getcwd(), # # Getting the path of the notebooks directory (Obtendo o path do diretório dos notebooks)\n",
    "        os.pardir # Gettin the constant string used by the OS to refer to the parent directory (Obtendo a string constante usada pelo OS para fazer referência ao diretório pai)\n",
    "    )\n",
    ")\n",
    "# Adding path to the list of strings that specify the search path for modules\n",
    "# Adicionando o path à lista de strings que especifica o path de pesquisa para os módulos\n",
    "sys.path.append(PROJECT_ROOT)\n",
    "from src.rnn_model_train import *"
   ]
  },
  {
   "cell_type": "markdown",
   "id": "0d3705eb-ec9b-4dcb-8e7a-178a41c04871",
   "metadata": {},
   "source": [
    "**[EN-US]**\n",
    "\n",
    "> **Note**: the codes for the utility functions used in this system are in the `rnn_model_train.py` script within the `../src/` directory.\n",
    "\n",
    "**[PT-BR]**\n",
    "\n",
    "> **Nota**: os códigos para as funções utilitárias utilizadas nesse sistema estão no script `rnn_model_train.py` dentro do diretório `../src/`."
   ]
  },
  {
   "cell_type": "markdown",
   "id": "c02bd306-a269-46e3-8f5d-e8b4a62bc355",
   "metadata": {},
   "source": [
    "<a name=\"2\"></a>\n",
    "## Setting (Configurando)\n",
    "**[EN-US]**\n",
    "\n",
    "We will read each subset from disk, define the global variables for creating the dataset and model, and we will create the `tensorflow.data.Dataset` for each subset.\n",
    "\n",
    "Reading each of the subsets from the `../data/preprocessed/` directory and plotting their dimensions.\n",
    "\n",
    "**[PT-BR]**\n",
    "\n",
    "Vamos ler cada subset do disco, definir as variáveis globais para a criação do dataset e do modelo, e vamos criar o `tensorflow.data.Dataset` de cada subset.\n",
    "\n",
    "Lendo cada um dos subsets do diretório `../data/preprocessed/` e plotando as suas dimensões."
   ]
  },
  {
   "cell_type": "code",
   "execution_count": 8,
   "id": "25ea5f4e-43f0-45e2-a4fd-cbc05d7f08d6",
   "metadata": {},
   "outputs": [
    {
     "name": "stdout",
     "output_type": "stream",
     "text": [
      "Train set shape: (9682, 167)\n",
      "Validation set shape: (3227, 167)\n",
      "Test set shape: (3228, 167)\n"
     ]
    }
   ],
   "source": [
    "# Subset names (nomes dos subsets)\n",
    "files = ['train', 'valid', 'test']\n",
    "datasets = []\n",
    "# Looping through each name (Percorrendo cada nome)\n",
    "for file in files:\n",
    "    # Reading each subset and adding it to the list for later extraction\n",
    "    # Lendo cada subset e adicionando na lista para extração posteriormente\n",
    "    with open(f'../data/preprocessed/{file}_tokens.npy', 'rb') as f:\n",
    "        datasets.append(np.load(f))\n",
    "\n",
    "# Extracting each subset from the `datasets` list\n",
    "# Extraindo cada subset da lista `datasets`\n",
    "train_corpus, valid_corpus, test_corpus = datasets\n",
    "print(f'Train set shape: {train_corpus.shape}\\nValidation set shape: {valid_corpus.shape}\\nTest set shape: {test_corpus.shape}')"
   ]
  },
  {
   "cell_type": "markdown",
   "id": "93a9b0f0-f877-4138-81bb-8dcc0ed65e58",
   "metadata": {},
   "source": [
    "**[EN-US]**\n",
    "\n",
    "Setting global variables to create `tensorflow.data.Dataset` and global variables to create the model.\n",
    "\n",
    "**[PT-BR]**\n",
    "\n",
    "Definindo as variáveis globais para criar o `tensorflow.data.Dataset` e as variáveis globais para a criação do modelo."
   ]
  },
  {
   "cell_type": "code",
   "execution_count": 11,
   "id": "74e88c26-e353-4a91-a2f2-fa1a41659f43",
   "metadata": {},
   "outputs": [],
   "source": [
    "# Dataset global variables\n",
    "# Variáveis globais do dataset\n",
    "BATCH_SIZE = 128\n",
    "BUFFER_SIZE = 1000\n",
    "\n",
    "# Model global variables\n",
    "# Variáveis globais do modelo\n",
    "MAX_LEN = train_corpus.shape[1] - 1\n",
    "EMBEDDING_DIM = 5000\n",
    "DROPOUT_RATE = .1\n",
    "# Loading vocabulary from trained tokenizer\n",
    "# Carregando o vocabulário do tokenizer treinado\n",
    "VOCAB_SIZE = len(pickle.load(open('../models/vectorizer.pkl', 'rb'))['vocabulary'])"
   ]
  },
  {
   "cell_type": "markdown",
   "id": "5328c5a6-9fdf-4596-b8d0-e601b97ca605",
   "metadata": {},
   "source": [
    "Creating `tensorflow.data.Dataset` for each subset and plotting the training set dimension (Criando o `tensorflow.data.Dataset` para cada subset e plotando a dimensão do training set)."
   ]
  },
  {
   "cell_type": "code",
   "execution_count": 14,
   "id": "86fba599-081a-4c37-835a-fd7a74e5286f",
   "metadata": {},
   "outputs": [
    {
     "name": "stdout",
     "output_type": "stream",
     "text": [
      "Shape of the train batch: (128, 166)\n"
     ]
    }
   ],
   "source": [
    "train_set = create_batch_dataset(train_corpus, BATCH_SIZE, BUFFER_SIZE, shuffle=True)\n",
    "valid_set = create_batch_dataset(valid_corpus, BATCH_SIZE, BUFFER_SIZE)\n",
    "test_set = create_batch_dataset(test_corpus, BATCH_SIZE, BUFFER_SIZE)\n",
    "\n",
    "train_batch = next(train_set.as_numpy_iterator())\n",
    "print(f\"Shape of the train batch: {train_batch[0].shape}\")"
   ]
  },
  {
   "cell_type": "markdown",
   "id": "55fc150b-e9c4-490d-837d-47605d5b4f0e",
   "metadata": {},
   "source": [
    "<a name=\"3\"></a>\n",
    "## RNN Model (Modelo RNN)\n",
    "**[EN-US]**\n",
    "\n",
    "\n",
    "\n",
    "**[PT-BR]**"
   ]
  },
  {
   "cell_type": "markdown",
   "id": "a7900966-abe1-49c1-afd5-c21585c0f731",
   "metadata": {},
   "source": [
    "<a name=\"3.1\"></a>\n",
    "### Embedding\n",
    "**[EN-US]**\n",
    "\n",
    "\n",
    "\n",
    "**[PT-BR]**"
   ]
  },
  {
   "cell_type": "markdown",
   "id": "30120afb-5418-40fc-8c41-6d7a464183df",
   "metadata": {},
   "source": [
    "<a name=\"3.2\"></a>\n",
    "### LSTM Layer\n",
    "**[EN-US]**\n",
    "\n",
    "\n",
    "\n",
    "**[PT-BR]**"
   ]
  },
  {
   "cell_type": "markdown",
   "id": "f04bd579-0088-47d2-9694-65ffd8f2fb9c",
   "metadata": {},
   "source": [
    "<a name=\"4\"></a>\n",
    "## LSTM Model Train (Treinamento do Modelo LSTM)\n",
    "**[EN-US]**\n",
    "\n",
    "\n",
    "\n",
    "**[PT-BR]**"
   ]
  },
  {
   "cell_type": "code",
   "execution_count": 20,
   "id": "62ace129-dd26-4605-bd08-bcbb6a016cec",
   "metadata": {},
   "outputs": [],
   "source": [
    "def create_and_compile_model(input_shape, vocab_size, embedding_dim=1000, dropout_rate=.1, lr=1e-3, lambda_r=1e-2):\n",
    "    \"\"\"\n",
    "    [EN-US]\n",
    "\n",
    "    [PT-BR]\n",
    "    \n",
    "    \"\"\"\n",
    "    # Clearing all internal variables \n",
    "    # Limpando todas as variáveis internas\n",
    "    clear_session()\n",
    "    \n",
    "    # Defining the model architecture\n",
    "    # Definindo a arquitetura do modelo    \n",
    "    input_layer = Input(shape=(input_shape,))\n",
    "    embedding_layer = Embedding(vocab_size, embedding_dim, name='embedding_layer')(input_layer)\n",
    "    X = Bidirectional(LSTM(32, return_sequences=True), name='bi_lstm_layer_1')(embedding_layer)\n",
    "    X = Dropout(rate=dropout_rate, name='dropout_layer_1')(X)\n",
    "    #X = GlobalAveragePooling1D()(X)\n",
    "    X = Bidirectional(LSTM(16), name='bi_lstm_layer_2')(X)\n",
    "    X = Dropout(rate=dropout_rate, name='dropout_layer_2')(X)\n",
    "    X = Dense(16, activation='relu', kernel_initializer='he_normal', kernel_regularizer=tf.keras.regularizers.l2(lambda_r), name='dense_layer_1')(X)\n",
    "    X = Dense(16, activation='relu', kernel_initializer='he_normal', kernel_regularizer=tf.keras.regularizers.l2(lambda_r), name='dense_layer_2')(X)\n",
    "    output = Dense(1, activation='sigmoid', name='output_layer')(X)\n",
    "    # Setting the input and output of the model\n",
    "    # Definindo o input e o output do modelo\n",
    "    model = Model(inputs=input_layer, outputs=output, name='LSTM_Bidirectional')\n",
    "\n",
    "    # Compiling the model\n",
    "    # Compilando o modelo\n",
    "    model.compile(\n",
    "        optimizer=Adam(learning_rate=lr),\n",
    "        loss='binary_crossentropy',\n",
    "        metrics=['accuracy', 'auc']\n",
    "    )\n",
    "\n",
    "    return model"
   ]
  },
  {
   "cell_type": "code",
   "execution_count": 22,
   "id": "22aa9e91-07e9-4bfc-9325-fbd505d0838d",
   "metadata": {},
   "outputs": [
    {
     "name": "stdout",
     "output_type": "stream",
     "text": [
      "WARNING:tensorflow:From C:\\Users\\guine\\AppData\\Local\\anaconda3\\Lib\\site-packages\\keras\\src\\backend\\common\\global_state.py:82: The name tf.reset_default_graph is deprecated. Please use tf.compat.v1.reset_default_graph instead.\n",
      "\n"
     ]
    },
    {
     "data": {
      "text/html": [
       "<pre style=\"white-space:pre;overflow-x:auto;line-height:normal;font-family:Menlo,'DejaVu Sans Mono',consolas,'Courier New',monospace\"><span style=\"font-weight: bold\">Model: \"LSTM_Bidirectional\"</span>\n",
       "</pre>\n"
      ],
      "text/plain": [
       "\u001b[1mModel: \"LSTM_Bidirectional\"\u001b[0m\n"
      ]
     },
     "metadata": {},
     "output_type": "display_data"
    },
    {
     "data": {
      "text/html": [
       "<pre style=\"white-space:pre;overflow-x:auto;line-height:normal;font-family:Menlo,'DejaVu Sans Mono',consolas,'Courier New',monospace\">┏━━━━━━━━━━━━━━━━━━━━━━━━━━━━━━━━━┳━━━━━━━━━━━━━━━━━━━━━━━━┳━━━━━━━━━━━━━━━┓\n",
       "┃<span style=\"font-weight: bold\"> Layer (type)                    </span>┃<span style=\"font-weight: bold\"> Output Shape           </span>┃<span style=\"font-weight: bold\">       Param # </span>┃\n",
       "┡━━━━━━━━━━━━━━━━━━━━━━━━━━━━━━━━━╇━━━━━━━━━━━━━━━━━━━━━━━━╇━━━━━━━━━━━━━━━┩\n",
       "│ input_layer (<span style=\"color: #0087ff; text-decoration-color: #0087ff\">InputLayer</span>)        │ (<span style=\"color: #00d7ff; text-decoration-color: #00d7ff\">None</span>, <span style=\"color: #00af00; text-decoration-color: #00af00\">166</span>)            │             <span style=\"color: #00af00; text-decoration-color: #00af00\">0</span> │\n",
       "├─────────────────────────────────┼────────────────────────┼───────────────┤\n",
       "│ embedding_layer (<span style=\"color: #0087ff; text-decoration-color: #0087ff\">Embedding</span>)     │ (<span style=\"color: #00d7ff; text-decoration-color: #00d7ff\">None</span>, <span style=\"color: #00af00; text-decoration-color: #00af00\">166</span>, <span style=\"color: #00af00; text-decoration-color: #00af00\">100</span>)       │     <span style=\"color: #00af00; text-decoration-color: #00af00\">1,000,000</span> │\n",
       "├─────────────────────────────────┼────────────────────────┼───────────────┤\n",
       "│ bi_lstm_layer_1 (<span style=\"color: #0087ff; text-decoration-color: #0087ff\">Bidirectional</span>) │ (<span style=\"color: #00d7ff; text-decoration-color: #00d7ff\">None</span>, <span style=\"color: #00af00; text-decoration-color: #00af00\">166</span>, <span style=\"color: #00af00; text-decoration-color: #00af00\">64</span>)        │        <span style=\"color: #00af00; text-decoration-color: #00af00\">34,048</span> │\n",
       "├─────────────────────────────────┼────────────────────────┼───────────────┤\n",
       "│ dropout_layer_1 (<span style=\"color: #0087ff; text-decoration-color: #0087ff\">Dropout</span>)       │ (<span style=\"color: #00d7ff; text-decoration-color: #00d7ff\">None</span>, <span style=\"color: #00af00; text-decoration-color: #00af00\">166</span>, <span style=\"color: #00af00; text-decoration-color: #00af00\">64</span>)        │             <span style=\"color: #00af00; text-decoration-color: #00af00\">0</span> │\n",
       "├─────────────────────────────────┼────────────────────────┼───────────────┤\n",
       "│ bi_lstm_layer_2 (<span style=\"color: #0087ff; text-decoration-color: #0087ff\">Bidirectional</span>) │ (<span style=\"color: #00d7ff; text-decoration-color: #00d7ff\">None</span>, <span style=\"color: #00af00; text-decoration-color: #00af00\">32</span>)             │        <span style=\"color: #00af00; text-decoration-color: #00af00\">10,368</span> │\n",
       "├─────────────────────────────────┼────────────────────────┼───────────────┤\n",
       "│ dropout_layer_2 (<span style=\"color: #0087ff; text-decoration-color: #0087ff\">Dropout</span>)       │ (<span style=\"color: #00d7ff; text-decoration-color: #00d7ff\">None</span>, <span style=\"color: #00af00; text-decoration-color: #00af00\">32</span>)             │             <span style=\"color: #00af00; text-decoration-color: #00af00\">0</span> │\n",
       "├─────────────────────────────────┼────────────────────────┼───────────────┤\n",
       "│ dense_layer_1 (<span style=\"color: #0087ff; text-decoration-color: #0087ff\">Dense</span>)           │ (<span style=\"color: #00d7ff; text-decoration-color: #00d7ff\">None</span>, <span style=\"color: #00af00; text-decoration-color: #00af00\">16</span>)             │           <span style=\"color: #00af00; text-decoration-color: #00af00\">528</span> │\n",
       "├─────────────────────────────────┼────────────────────────┼───────────────┤\n",
       "│ dense_layer_2 (<span style=\"color: #0087ff; text-decoration-color: #0087ff\">Dense</span>)           │ (<span style=\"color: #00d7ff; text-decoration-color: #00d7ff\">None</span>, <span style=\"color: #00af00; text-decoration-color: #00af00\">16</span>)             │           <span style=\"color: #00af00; text-decoration-color: #00af00\">272</span> │\n",
       "├─────────────────────────────────┼────────────────────────┼───────────────┤\n",
       "│ output_layer (<span style=\"color: #0087ff; text-decoration-color: #0087ff\">Dense</span>)            │ (<span style=\"color: #00d7ff; text-decoration-color: #00d7ff\">None</span>, <span style=\"color: #00af00; text-decoration-color: #00af00\">1</span>)              │            <span style=\"color: #00af00; text-decoration-color: #00af00\">17</span> │\n",
       "└─────────────────────────────────┴────────────────────────┴───────────────┘\n",
       "</pre>\n"
      ],
      "text/plain": [
       "┏━━━━━━━━━━━━━━━━━━━━━━━━━━━━━━━━━┳━━━━━━━━━━━━━━━━━━━━━━━━┳━━━━━━━━━━━━━━━┓\n",
       "┃\u001b[1m \u001b[0m\u001b[1mLayer (type)                   \u001b[0m\u001b[1m \u001b[0m┃\u001b[1m \u001b[0m\u001b[1mOutput Shape          \u001b[0m\u001b[1m \u001b[0m┃\u001b[1m \u001b[0m\u001b[1m      Param #\u001b[0m\u001b[1m \u001b[0m┃\n",
       "┡━━━━━━━━━━━━━━━━━━━━━━━━━━━━━━━━━╇━━━━━━━━━━━━━━━━━━━━━━━━╇━━━━━━━━━━━━━━━┩\n",
       "│ input_layer (\u001b[38;5;33mInputLayer\u001b[0m)        │ (\u001b[38;5;45mNone\u001b[0m, \u001b[38;5;34m166\u001b[0m)            │             \u001b[38;5;34m0\u001b[0m │\n",
       "├─────────────────────────────────┼────────────────────────┼───────────────┤\n",
       "│ embedding_layer (\u001b[38;5;33mEmbedding\u001b[0m)     │ (\u001b[38;5;45mNone\u001b[0m, \u001b[38;5;34m166\u001b[0m, \u001b[38;5;34m100\u001b[0m)       │     \u001b[38;5;34m1,000,000\u001b[0m │\n",
       "├─────────────────────────────────┼────────────────────────┼───────────────┤\n",
       "│ bi_lstm_layer_1 (\u001b[38;5;33mBidirectional\u001b[0m) │ (\u001b[38;5;45mNone\u001b[0m, \u001b[38;5;34m166\u001b[0m, \u001b[38;5;34m64\u001b[0m)        │        \u001b[38;5;34m34,048\u001b[0m │\n",
       "├─────────────────────────────────┼────────────────────────┼───────────────┤\n",
       "│ dropout_layer_1 (\u001b[38;5;33mDropout\u001b[0m)       │ (\u001b[38;5;45mNone\u001b[0m, \u001b[38;5;34m166\u001b[0m, \u001b[38;5;34m64\u001b[0m)        │             \u001b[38;5;34m0\u001b[0m │\n",
       "├─────────────────────────────────┼────────────────────────┼───────────────┤\n",
       "│ bi_lstm_layer_2 (\u001b[38;5;33mBidirectional\u001b[0m) │ (\u001b[38;5;45mNone\u001b[0m, \u001b[38;5;34m32\u001b[0m)             │        \u001b[38;5;34m10,368\u001b[0m │\n",
       "├─────────────────────────────────┼────────────────────────┼───────────────┤\n",
       "│ dropout_layer_2 (\u001b[38;5;33mDropout\u001b[0m)       │ (\u001b[38;5;45mNone\u001b[0m, \u001b[38;5;34m32\u001b[0m)             │             \u001b[38;5;34m0\u001b[0m │\n",
       "├─────────────────────────────────┼────────────────────────┼───────────────┤\n",
       "│ dense_layer_1 (\u001b[38;5;33mDense\u001b[0m)           │ (\u001b[38;5;45mNone\u001b[0m, \u001b[38;5;34m16\u001b[0m)             │           \u001b[38;5;34m528\u001b[0m │\n",
       "├─────────────────────────────────┼────────────────────────┼───────────────┤\n",
       "│ dense_layer_2 (\u001b[38;5;33mDense\u001b[0m)           │ (\u001b[38;5;45mNone\u001b[0m, \u001b[38;5;34m16\u001b[0m)             │           \u001b[38;5;34m272\u001b[0m │\n",
       "├─────────────────────────────────┼────────────────────────┼───────────────┤\n",
       "│ output_layer (\u001b[38;5;33mDense\u001b[0m)            │ (\u001b[38;5;45mNone\u001b[0m, \u001b[38;5;34m1\u001b[0m)              │            \u001b[38;5;34m17\u001b[0m │\n",
       "└─────────────────────────────────┴────────────────────────┴───────────────┘\n"
      ]
     },
     "metadata": {},
     "output_type": "display_data"
    },
    {
     "data": {
      "text/html": [
       "<pre style=\"white-space:pre;overflow-x:auto;line-height:normal;font-family:Menlo,'DejaVu Sans Mono',consolas,'Courier New',monospace\"><span style=\"font-weight: bold\"> Total params: </span><span style=\"color: #00af00; text-decoration-color: #00af00\">1,045,233</span> (3.99 MB)\n",
       "</pre>\n"
      ],
      "text/plain": [
       "\u001b[1m Total params: \u001b[0m\u001b[38;5;34m1,045,233\u001b[0m (3.99 MB)\n"
      ]
     },
     "metadata": {},
     "output_type": "display_data"
    },
    {
     "data": {
      "text/html": [
       "<pre style=\"white-space:pre;overflow-x:auto;line-height:normal;font-family:Menlo,'DejaVu Sans Mono',consolas,'Courier New',monospace\"><span style=\"font-weight: bold\"> Trainable params: </span><span style=\"color: #00af00; text-decoration-color: #00af00\">1,045,233</span> (3.99 MB)\n",
       "</pre>\n"
      ],
      "text/plain": [
       "\u001b[1m Trainable params: \u001b[0m\u001b[38;5;34m1,045,233\u001b[0m (3.99 MB)\n"
      ]
     },
     "metadata": {},
     "output_type": "display_data"
    },
    {
     "data": {
      "text/html": [
       "<pre style=\"white-space:pre;overflow-x:auto;line-height:normal;font-family:Menlo,'DejaVu Sans Mono',consolas,'Courier New',monospace\"><span style=\"font-weight: bold\"> Non-trainable params: </span><span style=\"color: #00af00; text-decoration-color: #00af00\">0</span> (0.00 B)\n",
       "</pre>\n"
      ],
      "text/plain": [
       "\u001b[1m Non-trainable params: \u001b[0m\u001b[38;5;34m0\u001b[0m (0.00 B)\n"
      ]
     },
     "metadata": {},
     "output_type": "display_data"
    }
   ],
   "source": [
    "EMBEDDING_DIM = 100\n",
    "DROPOUT_RATE = .5\n",
    "\n",
    "model = create_and_compile_model(\n",
    "    MAX_LEN, \n",
    "    VOCAB_SIZE, \n",
    "    EMBEDDING_DIM, \n",
    "    dropout_rate=DROPOUT_RATE, \n",
    "    lr=1e-2\n",
    ")\n",
    "model.summary()"
   ]
  },
  {
   "cell_type": "markdown",
   "id": "933a1922-970b-4c00-9112-957bae7f1e02",
   "metadata": {},
   "source": [
    "**[EN-US]**\n",
    "\n",
    "Defining the callbacks that will be used in training and training the model. The callbacks are:\n",
    "* `ModelCheckpoint`: saves model checkpoints at regular intervals during training, by default at the end of each epoch. If we use a validation set during training, we can set `save_best_only=True` and it will only save our model when the performance on the validation set so far is the best.\n",
    "* `EarlyStopping`: one of the ways to implement early stopping, that is, we stop training when the model does not calculate any progress in the validation defined by some epochs, defined by the `patience` argument and, optionally, will revert to the best model, defined by the `restore_best_weights` argument.\n",
    "\n",
    "**[PT-BR]**\n",
    "\n",
    "Definindo os callbacks que serão utilizados no treinamento e treinando o modelo. Os callbacks são:\n",
    "* `ModelCheckpoint`: salva os checkpoints do modelo em intervalos regulares durante o treinamento, por padrão no fim de cada epoch. Se utilizarmos um validation set durante o treinamento, podemos definir `save_best_only=True` e ele apenas salvará nosso modelo quando o desempenho no validation set até então for o melhor.\n",
    "* `EarlyStopping`: uma das formas de implementarmos a early stopping, ou seja, interrompemos o treinamento quando o modelo não calcular nenhum progresso na validação definida por algumas epochs, definido pelo argumento `patience` e, opcionalmente, reverterá para o melhor modelo, definido pelo argumento `restore_best_weights`."
   ]
  },
  {
   "cell_type": "code",
   "execution_count": 24,
   "id": "cbea468b-7de2-4769-8a6c-7cae6f2ec47c",
   "metadata": {
    "scrolled": true
   },
   "outputs": [
    {
     "name": "stdout",
     "output_type": "stream",
     "text": [
      "Epoch 1/25\n",
      "76/76 - 26s - 337ms/step - accuracy: 0.6245 - auc: 0.5832 - loss: 0.8147 - val_accuracy: 0.5928 - val_auc: 0.5044 - val_loss: 0.6955\n",
      "Epoch 2/25\n",
      "76/76 - 10s - 128ms/step - accuracy: 0.6883 - auc: 0.7302 - loss: 0.5992 - val_accuracy: 0.5407 - val_auc: 0.5070 - val_loss: 0.7130\n",
      "Epoch 3/25\n",
      "76/76 - 10s - 135ms/step - accuracy: 0.7592 - auc: 0.8053 - loss: 0.5288 - val_accuracy: 0.5330 - val_auc: 0.4956 - val_loss: 0.8305\n",
      "Epoch 4/25\n",
      "76/76 - 10s - 135ms/step - accuracy: 0.8167 - auc: 0.8670 - loss: 0.4458 - val_accuracy: 0.5095 - val_auc: 0.4943 - val_loss: 0.9147\n",
      "Epoch 5/25\n",
      "76/76 - 10s - 130ms/step - accuracy: 0.8593 - auc: 0.9064 - loss: 0.3760 - val_accuracy: 0.5005 - val_auc: 0.5013 - val_loss: 1.0187\n",
      "Epoch 6/25\n",
      "76/76 - 10s - 128ms/step - accuracy: 0.8872 - auc: 0.9285 - loss: 0.3246 - val_accuracy: 0.5169 - val_auc: 0.5004 - val_loss: 1.1440\n",
      "Epoch 7/25\n",
      "76/76 - 10s - 136ms/step - accuracy: 0.9042 - auc: 0.9411 - loss: 0.2893 - val_accuracy: 0.5249 - val_auc: 0.4976 - val_loss: 1.3329\n",
      "Epoch 8/25\n",
      "76/76 - 11s - 139ms/step - accuracy: 0.9182 - auc: 0.9536 - loss: 0.2555 - val_accuracy: 0.5110 - val_auc: 0.4965 - val_loss: 1.3862\n",
      "Epoch 9/25\n",
      "76/76 - 11s - 145ms/step - accuracy: 0.9270 - auc: 0.9576 - loss: 0.2377 - val_accuracy: 0.5057 - val_auc: 0.5000 - val_loss: 1.3440\n",
      "Epoch 10/25\n",
      "76/76 - 11s - 150ms/step - accuracy: 0.9433 - auc: 0.9670 - loss: 0.2025 - val_accuracy: 0.5048 - val_auc: 0.4999 - val_loss: 1.4327\n",
      "Epoch 11/25\n",
      "76/76 - 10s - 131ms/step - accuracy: 0.9524 - auc: 0.9725 - loss: 0.1781 - val_accuracy: 0.5203 - val_auc: 0.5002 - val_loss: 1.4198\n",
      "Epoch 12/25\n",
      "76/76 - 10s - 134ms/step - accuracy: 0.9565 - auc: 0.9744 - loss: 0.1678 - val_accuracy: 0.5234 - val_auc: 0.4957 - val_loss: 1.4576\n",
      "Epoch 13/25\n",
      "76/76 - 11s - 138ms/step - accuracy: 0.9562 - auc: 0.9761 - loss: 0.1633 - val_accuracy: 0.5355 - val_auc: 0.5034 - val_loss: 1.4746\n",
      "Epoch 14/25\n",
      "76/76 - 11s - 140ms/step - accuracy: 0.9588 - auc: 0.9780 - loss: 0.1544 - val_accuracy: 0.5181 - val_auc: 0.4998 - val_loss: 1.6244\n",
      "Epoch 15/25\n",
      "76/76 - 14s - 179ms/step - accuracy: 0.9663 - auc: 0.9812 - loss: 0.1360 - val_accuracy: 0.5132 - val_auc: 0.5015 - val_loss: 1.7766\n",
      "Epoch 16/25\n",
      "76/76 - 11s - 151ms/step - accuracy: 0.9666 - auc: 0.9826 - loss: 0.1299 - val_accuracy: 0.5147 - val_auc: 0.5047 - val_loss: 1.6985\n",
      "Epoch 17/25\n",
      "76/76 - 12s - 155ms/step - accuracy: 0.9628 - auc: 0.9835 - loss: 0.1347 - val_accuracy: 0.5181 - val_auc: 0.5044 - val_loss: 1.8034\n",
      "Epoch 18/25\n",
      "76/76 - 11s - 146ms/step - accuracy: 0.9698 - auc: 0.9855 - loss: 0.1189 - val_accuracy: 0.5194 - val_auc: 0.4970 - val_loss: 1.7253\n",
      "Epoch 19/25\n",
      "76/76 - 10s - 133ms/step - accuracy: 0.9696 - auc: 0.9848 - loss: 0.1220 - val_accuracy: 0.5194 - val_auc: 0.5031 - val_loss: 1.7406\n",
      "Epoch 20/25\n",
      "76/76 - 11s - 147ms/step - accuracy: 0.9684 - auc: 0.9862 - loss: 0.1206 - val_accuracy: 0.5187 - val_auc: 0.4999 - val_loss: 1.7227\n",
      "Epoch 21/25\n",
      "76/76 - 11s - 148ms/step - accuracy: 0.9691 - auc: 0.9858 - loss: 0.1194 - val_accuracy: 0.5014 - val_auc: 0.4987 - val_loss: 1.8235\n",
      "Epoch 22/25\n",
      "76/76 - 11s - 143ms/step - accuracy: 0.9721 - auc: 0.9869 - loss: 0.1115 - val_accuracy: 0.5039 - val_auc: 0.4972 - val_loss: 1.8594\n",
      "Epoch 23/25\n",
      "76/76 - 11s - 142ms/step - accuracy: 0.9758 - auc: 0.9887 - loss: 0.1040 - val_accuracy: 0.5178 - val_auc: 0.4990 - val_loss: 2.0051\n",
      "Epoch 24/25\n",
      "76/76 - 10s - 138ms/step - accuracy: 0.9783 - auc: 0.9901 - loss: 0.0912 - val_accuracy: 0.5206 - val_auc: 0.4982 - val_loss: 2.0551\n",
      "Epoch 25/25\n",
      "76/76 - 10s - 134ms/step - accuracy: 0.9756 - auc: 0.9904 - loss: 0.0965 - val_accuracy: 0.5243 - val_auc: 0.4988 - val_loss: 2.1240\n"
     ]
    }
   ],
   "source": [
    "# Setting the callbacks\n",
    "# Definindo os callbacks\n",
    "checkpoint_cb = ModelCheckpoint('../models/lstm_model.keras', save_best_only=True)\n",
    "early_stopping_cb = EarlyStopping(patience=50, restore_best_weights=True)\n",
    "\n",
    "# Training the model\n",
    "# Treinando o modelo\n",
    "history = model.fit(\n",
    "    train_set,\n",
    "    epochs=25,\n",
    "    validation_data=valid_set,\n",
    "    callbacks=[checkpoint_cb, early_stopping_cb],\n",
    "    verbose=2\n",
    ")"
   ]
  },
  {
   "cell_type": "markdown",
   "id": "cad6782a-28bf-4c4b-94df-296add27123a",
   "metadata": {},
   "source": [
    "Plotting loss and evaluation metrics during model training (Plotando a loss e a métrica de avaliação durante o treinamento do modelo)."
   ]
  },
  {
   "cell_type": "code",
   "execution_count": 35,
   "id": "cb4e336a-fb3c-4484-8a03-f84e11195162",
   "metadata": {},
   "outputs": [
    {
     "data": {
      "image/png": "[encoded data removed]",
      "text/plain": [
       "<Figure size 1200x600 with 4 Axes>"
      ]
     },
     "metadata": {},
     "output_type": "display_data"
    }
   ],
   "source": [
    "plot_history(history, 'auc', name='model_history')"
   ]
  },
  {
   "cell_type": "code",
   "execution_count": 30,
   "id": "38ef6285-b927-44fa-9bfc-28d2d4f61019",
   "metadata": {},
   "outputs": [
    {
     "name": "stdout",
     "output_type": "stream",
     "text": [
      "Train set evaluate: [0.6323050856590271, 0.6272464394569397, 0.7420925498008728]\n",
      "Validation set evaluate: [0.6955096125602722, 0.5928106307983398, 0.5043700933456421]\n"
     ]
    }
   ],
   "source": [
    "print(f'Train set evaluate: {model.evaluate(train_set, verbose=0)}')\n",
    "print(f'Validation set evaluate: {model.evaluate(valid_set, verbose=0)}')"
   ]
  },
  {
   "cell_type": "code",
   "execution_count": 29,
   "id": "3901b558-8d92-4299-bbf4-edf621de3ddc",
   "metadata": {},
   "outputs": [
    {
     "name": "stdout",
     "output_type": "stream",
     "text": [
      "Test set evaluate: 0.5818\n"
     ]
    }
   ],
   "source": [
    "print(f'Test set evaluate: {model.evaluate(test_set, verbose=0)[1]:.4f}')"
   ]
  },
  {
   "cell_type": "code",
   "execution_count": null,
   "id": "c0c5d157-8e30-401f-b9c3-22f86f5992ae",
   "metadata": {},
   "outputs": [],
   "source": []
  }
 ],
 "metadata": {
  "kernelspec": {
   "display_name": "Python 3 (ipykernel)",
   "language": "python",
   "name": "python3"
  },
  "language_info": {
   "codemirror_mode": {
    "name": "ipython",
    "version": 3
   },
   "file_extension": ".py",
   "mimetype": "text/x-python",
   "name": "python",
   "nbconvert_exporter": "python",
   "pygments_lexer": "ipython3",
   "version": "3.11.5"
  }
 },
 "nbformat": 4,
 "nbformat_minor": 5
}
