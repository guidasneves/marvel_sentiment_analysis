{
 "cells": [
  {
   "cell_type": "markdown",
   "id": "1f1ca8c8-7422-4d38-8b31-c31ececab27e",
   "metadata": {},
   "source": []
  },
  {
   "cell_type": "markdown",
   "id": "fb2154db-3b9b-4939-a07c-e026f1858d5a",
   "metadata": {},
   "source": []
  },
  {
   "cell_type": "code",
   "execution_count": 4,
   "id": "06cc8d8e-b767-4962-a5a7-e7dea0012b8a",
   "metadata": {},
   "outputs": [],
   "source": [
    "import numpy as np"
   ]
  },
  {
   "cell_type": "markdown",
   "id": "b0049c1c-5932-4f1f-ada1-a5260f622332",
   "metadata": {},
   "source": []
  },
  {
   "cell_type": "code",
   "execution_count": 8,
   "id": "2fe51b15-5502-47a0-8d34-8447da17d77a",
   "metadata": {},
   "outputs": [
    {
     "data": {
      "text/plain": [
       "(16137, 252)"
      ]
     },
     "execution_count": 8,
     "metadata": {},
     "output_type": "execute_result"
    }
   ],
   "source": [
    "with open('../data/preprocessed/comics_transformers.npy', 'rb') as file:\n",
    "    corpus = np.load(file)\n",
    "\n",
    "corpus.shape"
   ]
  },
  {
   "cell_type": "code",
   "execution_count": null,
   "id": "95b6dd67-2714-4583-81d0-f8db9e01fb44",
   "metadata": {},
   "outputs": [],
   "source": []
  }
 ],
 "metadata": {
  "kernelspec": {
   "display_name": "Python 3 (ipykernel)",
   "language": "python",
   "name": "python3"
  },
  "language_info": {
   "codemirror_mode": {
    "name": "ipython",
    "version": 3
   },
   "file_extension": ".py",
   "mimetype": "text/x-python",
   "name": "python",
   "nbconvert_exporter": "python",
   "pygments_lexer": "ipython3",
   "version": "3.11.5"
  }
 },
 "nbformat": 4,
 "nbformat_minor": 5
}
