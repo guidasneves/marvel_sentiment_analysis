{
 "cells": [
  {
   "cell_type": "markdown",
   "id": "4497ee0a-f042-4a3f-b081-6d1051c3ddff",
   "metadata": {},
   "source": []
  },
  {
   "cell_type": "markdown",
   "id": "0c8618f5-38ea-4b3d-be01-62de9dcfebc9",
   "metadata": {},
   "source": []
  },
  {
   "cell_type": "code",
   "execution_count": 22,
   "id": "375d1727-909a-4086-ba17-f377c05c39ee",
   "metadata": {},
   "outputs": [],
   "source": [
    "import pandas as pd\n",
    "import numpy as np\n",
    "import re\n",
    "from nltk.corpus import stopwords\n",
    "from nltk.stem import PorterStemmer\n",
    "import tensorflow as tf\n",
    "from tensorflow.data import Dataset, AUTOTUNE\n",
    "from tensorflow.keras.layers import TextVectorization\n",
    "from tensorflow.keras.utils import pad_sequences\n",
    "\n",
    "import os\n",
    "import sys\n",
    "PROJECT_ROOT = os.path.abspath( # Getting Obtaining the absolute normalized version of the project root path (Obtendo a versão absoluta normalizada do path raíz do projeto)\n",
    "    os.path.join( # Concatenating the paths (Concatenando os paths)\n",
    "        os.getcwd(), # # Getting the path of the notebooks directory (Obtendo o path do diretório dos notebooks)\n",
    "        os.pardir # Gettin the constant string used by the OS to refer to the parent directory (Obtendo a string constante usada pelo OS para fazer referência ao diretório pai)\n",
    "    )\n",
    ")\n",
    "# Adding path to the list of strings that specify the search path for modules\n",
    "# Adicionando o path à lista de strings que especifica o path de pesquisa para os módulos\n",
    "sys.path.append(PROJECT_ROOT)\n",
    "from src.preprocessing import *"
   ]
  },
  {
   "cell_type": "markdown",
   "id": "25f9b6ae-a7d8-433d-bc57-819b73c23a87",
   "metadata": {},
   "source": []
  },
  {
   "cell_type": "code",
   "execution_count": 23,
   "id": "25ea5f4e-43f0-45e2-a4fd-cbc05d7f08d6",
   "metadata": {},
   "outputs": [
    {
     "data": {
      "text/plain": [
       "(16137, 167)"
      ]
     },
     "execution_count": 23,
     "metadata": {},
     "output_type": "execute_result"
    }
   ],
   "source": [
    "with open('../data/preprocessed/comics_tokens.npy', 'rb') as file:\n",
    "    corpus = np.load(file)\n",
    "\n",
    "corpus.shape"
   ]
  },
  {
   "cell_type": "code",
   "execution_count": 28,
   "id": "8b1f0257-0589-4eb3-8ff0-c1f686b1e5df",
   "metadata": {},
   "outputs": [
    {
     "data": {
      "text/plain": [
       "(array([  452,  9411,  1210,    27,   241,    18,   617,   375,    84,\n",
       "          469,  5131,  5235,  6534,    42,  3773, 10503,  1473,    46,\n",
       "         1868,    73,   437,   558,   483,  7397,  9289,  2825,    29,\n",
       "          171,    64,   441,   603,  3773,   586,   103,  9079,  9411,\n",
       "         1210,     9,   186,  1902,   153,   313,   174,     7,   348,\n",
       "           83,    87,   323,  1222,  3540,  5235,  6534,   276,    57,\n",
       "          720,   375,    84,   469,     0,     0,     0,     0,     0,\n",
       "            0,     0,     0,     0,     0,     0,     0,     0,     0,\n",
       "            0,     0,     0,     0,     0,     0,     0,     0,     0,\n",
       "            0,     0,     0,     0,     0,     0,     0,     0,     0,\n",
       "            0,     0,     0,     0,     0,     0,     0,     0,     0,\n",
       "            0,     0,     0,     0,     0,     0,     0,     0,     0,\n",
       "            0,     0,     0,     0,     0,     0,     0,     0,     0,\n",
       "            0,     0,     0,     0,     0,     0,     0,     0,     0,\n",
       "            0,     0,     0,     0,     0,     0,     0,     0,     0,\n",
       "            0,     0,     0,     0,     0,     0,     0,     0,     0,\n",
       "            0,     0,     0,     0,     0,     0,     0,     0,     0,\n",
       "            0,     0,     0,     0,     0,     0,     0,     0,     0,\n",
       "            0,     0,     0,     0]),\n",
       " np.int64(0))"
      ]
     },
     "execution_count": 28,
     "metadata": {},
     "output_type": "execute_result"
    }
   ],
   "source": [
    "X = corpus[:, :-1]\n",
    "y = corpus[:, -1]\n",
    "X[0], y[0]"
   ]
  },
  {
   "cell_type": "code",
   "execution_count": null,
   "id": "1878a33a-ad9c-49c5-8755-1686be3b9bed",
   "metadata": {},
   "outputs": [],
   "source": []
  }
 ],
 "metadata": {
  "kernelspec": {
   "display_name": "Python 3 (ipykernel)",
   "language": "python",
   "name": "python3"
  },
  "language_info": {
   "codemirror_mode": {
    "name": "ipython",
    "version": 3
   },
   "file_extension": ".py",
   "mimetype": "text/x-python",
   "name": "python",
   "nbconvert_exporter": "python",
   "pygments_lexer": "ipython3",
   "version": "3.11.5"
  }
 },
 "nbformat": 4,
 "nbformat_minor": 5
}
