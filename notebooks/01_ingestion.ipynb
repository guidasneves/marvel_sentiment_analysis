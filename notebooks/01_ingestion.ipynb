{
 "cells": [
  {
   "cell_type": "markdown",
   "id": "bf7e9705-821e-49ad-a64b-724fd5a8b4c4",
   "metadata": {},
   "source": [
    "# Etapa da Ingestão\n",
    "Etapa da ingestão dos dados.\n",
    "\n",
    "Extração dos dados da [API da Marvel](https://developer.marvel.com/), transformação inicial desses dados e carregamento no disco.\n",
    "\n",
    "<img align='center' src='../figures/marvel.png' style='width:800px;'>\n",
    "\n",
    "> **Nota**: **Artigo no Medium** da etapa da `ingestão` desse sistema em português: [Análise de Sentimentos Sobre os Quadrinhos da Marvel (Parte 1) - Ingestão, EDA e Pré-processamento](https://medium.com/@guineves.py/c5a0e35bb586)."
   ]
  },
  {
   "cell_type": "markdown",
   "id": "8963adbc-5079-45f2-8d78-dc3090c104a3",
   "metadata": {},
   "source": [
    "## Table of Contents\n",
    "* [Pacotes](#1)\n",
    "* [Variáveis de Ambiente](#2)\n",
    "* [Extração, Transformação e Carregamento](#3)\n",
    "    * [Extração dos Dados](#3.1)\n",
    "    * [Transformação dos Dados](#3.2)\n",
    "        * [Rotulação de Dados](#3.2.1)\n",
    "            * [Zero-Shot Learning](#3.2.1.1)\n",
    "    * [Carregamento dos Dados](#3.3)"
   ]
  },
  {
   "cell_type": "markdown",
   "id": "b91e510b-cc33-4b0a-8dba-b0ecd264ab09",
   "metadata": {},
   "source": [
    "<a name=\"1\"></a>\n",
    "## Pacotes\n",
    "Pacotes que foram utilizados no sistema:\n",
    "* [os](https://docs.python.org/3/library/os.html): módulo integrado, fornece uma maneira portátil de usar funcionalidades dependentes do sistema operacional;\n",
    "* [sys](https://docs.python.org/3/library/sys.html): fornece acesso a algumas variáveis usadas ou mantidas pelo interpretador e a funções que interagem fortemente com o interpretador;\n",
    "* [requests](https://pypi.org/project/requests/): é uma biblioteca HTTP simples, para fazer solicitações HTTP;\n",
    "* [haslib](https://docs.python.org/3/library/hashlib.html): implementa uma interface comum para muitos algoritmos diferentes de hash seguro e resumo de mensagens;\n",
    "* [time](https://docs.python.org/3/library/time.html): fornece várias funções relacionadas ao tempo;\n",
    "* [dotenv](https://pypi.org/project/python-dotenv/): lê pares de chave-valor de um arquivo .env e pode defini-los como variáveis de ambiente;\n",
    "* [pandas](https://pandas.pydata.org/): é o principal pacote para manipulação de dados;\n",
    "* [numpy](www.numpy.org): é o principal pacote para computação científica;\n",
    "* [transformers](https://huggingface.co/docs/transformers/index): fornece APIs e ferramentas para baixar e treinar facilmente modelos pré-treinados de última geração;\n",
    "* [src](../src/): pacote com todos os códigos de todas as funções utilitárias criadas para esse sistema. Localizado dentro do diretório `../src/`."
   ]
  },
  {
   "cell_type": "code",
   "execution_count": 66,
   "id": "1e0868b2-3bc4-4bd1-bd19-a2184f39df1b",
   "metadata": {},
   "outputs": [],
   "source": [
    "import os\n",
    "import sys\n",
    "from dotenv import load_dotenv\n",
    "load_dotenv()\n",
    "\n",
    "import pandas as pd\n",
    "import numpy as np\n",
    "from transformers import pipeline\n",
    "\n",
    "PROJECT_ROOT = os.path.abspath( # Obtendo a versão absoluta normalizada do path raíz do projeto\n",
    "    os.path.join( # Concatenando os paths\n",
    "        os.getcwd(), # Obtendo o path do diretório dos notebooks\n",
    "        os.pardir # Obtendo a string constante usada pelo OS para fazer referência ao diretório pai\n",
    "    )\n",
    ")\n",
    "# Adicionando o path à lista de strings que especifica o path de pesquisa para os módulos\n",
    "sys.path.append(PROJECT_ROOT)\n",
    "from src.ingestion import *"
   ]
  },
  {
   "cell_type": "markdown",
   "id": "5893173b-1680-402b-9058-008d544622d5",
   "metadata": {},
   "source": [
    "> **Nota**: os códigos para as funções utilitárias utilizadas nesse sistema estão no script `ingestion.py` dentro do diretório `../src/`."
   ]
  },
  {
   "cell_type": "markdown",
   "id": "c76f6d54-ee3b-4eec-8114-b1d943ee4183",
   "metadata": {},
   "source": [
    "<a name=\"3\"></a>\n",
    "## Variáveis de Ambiente\n",
    "Definindo as variáveis de ambiente:\n",
    "* `MARVEL_PUBLIC_KEY`: a public key para conexão e uso das APIs.\n",
    "* `MARVEL_PRIVATE_KEY`: a private key para conexão e uso das APIs."
   ]
  },
  {
   "cell_type": "code",
   "execution_count": 16,
   "id": "f333179a-a5c7-4911-beb5-6650554ede46",
   "metadata": {},
   "outputs": [],
   "source": [
    "PUBLIC_KEY = str(os.environ['MARVEL_PUBLIC_KEY'])\n",
    "PRIVATE_KEY = str(os.environ['MARVEL_PRIVATE_KEY'])"
   ]
  },
  {
   "cell_type": "markdown",
   "id": "06c58f20-8fb9-4c27-852e-91fef8626f3c",
   "metadata": {},
   "source": [
    "<a name=\"3\"></a>\n",
    "## Extração, Transformação e Carregamento\n",
    "ETL (Extração, Transformação e Carregamento), requisitando a autorização da Marvel, extraindo os dados dos personagens e dos comics da Marvel, transformando esses dados e carregamando os dados no disco."
   ]
  },
  {
   "cell_type": "markdown",
   "id": "93355ae6-b082-4ebf-9d06-b08bb052b1a3",
   "metadata": {},
   "source": [
    "<a name=\"3.1\"></a>\n",
    "### Extração dos Dados\n",
    "Inicializando a classe `MarvelIngestion`, que é composta pela função `get_params`, que define as variáveis, o hash e os parâmetros para a requisição à API, o método `__call__` que realiza a conexão e a chamada à API para extrair os dados solicitados."
   ]
  },
  {
   "cell_type": "code",
   "execution_count": 234,
   "id": "684bee22-0c2a-4701-8334-bef63ab92166",
   "metadata": {
    "scrolled": true
   },
   "outputs": [],
   "source": [
    "ingestion = MarvelIngestion(PUBLIC_KEY, PRIVATE_KEY)"
   ]
  },
  {
   "cell_type": "markdown",
   "id": "0437056a-84eb-4858-8043-fe6af2dbcb50",
   "metadata": {},
   "source": [
    "Extraindo os dados dos comics e, suas respectivas descrições e, em seguida, projetando os 5 primeiros exemplos do dataset dos comics `df_comics`."
   ]
  },
  {
   "cell_type": "code",
   "execution_count": 132,
   "id": "bb04c25f-2675-4943-b81b-565afbba4d09",
   "metadata": {},
   "outputs": [
    {
     "name": "stdout",
     "output_type": "stream",
     "text": [
      "Dimensão do comics dataset: (18802, 3)\n"
     ]
    },
    {
     "data": {
      "text/html": [
       "<div>\n",
       "<style scoped>\n",
       "    .dataframe tbody tr th:only-of-type {\n",
       "        vertical-align: middle;\n",
       "    }\n",
       "\n",
       "    .dataframe tbody tr th {\n",
       "        vertical-align: top;\n",
       "    }\n",
       "\n",
       "    .dataframe thead th {\n",
       "        text-align: right;\n",
       "    }\n",
       "</style>\n",
       "<table border=\"1\" class=\"dataframe\">\n",
       "  <thead>\n",
       "    <tr style=\"text-align: right;\">\n",
       "      <th></th>\n",
       "      <th>id</th>\n",
       "      <th>title</th>\n",
       "      <th>description</th>\n",
       "    </tr>\n",
       "  </thead>\n",
       "  <tbody>\n",
       "    <tr>\n",
       "      <th>0</th>\n",
       "      <td>94799</td>\n",
       "      <td>Demon Days: Mariko (2021) #1 (Variant)</td>\n",
       "      <td>IN THE SHADOW OF KIRISAKI MOUNTAIN?A SECRET HI...</td>\n",
       "    </tr>\n",
       "    <tr>\n",
       "      <th>1</th>\n",
       "      <td>94801</td>\n",
       "      <td>Demon Days: Mariko (2021) #1 (Variant)</td>\n",
       "      <td>IN THE SHADOW OF KIRISAKI MOUNTAIN?A SECRET HI...</td>\n",
       "    </tr>\n",
       "    <tr>\n",
       "      <th>2</th>\n",
       "      <td>94802</td>\n",
       "      <td>Demon Days: Mariko (2021) #1 (Variant)</td>\n",
       "      <td>IN THE SHADOW OF KIRISAKI MOUNTAIN?A SECRET HI...</td>\n",
       "    </tr>\n",
       "    <tr>\n",
       "      <th>3</th>\n",
       "      <td>94803</td>\n",
       "      <td>Demon Days: Mariko (2021) #1 (Variant)</td>\n",
       "      <td>IN THE SHADOW OF KIRISAKI MOUNTAIN?A SECRET HI...</td>\n",
       "    </tr>\n",
       "    <tr>\n",
       "      <th>4</th>\n",
       "      <td>94804</td>\n",
       "      <td>Demon Days: Mariko (2021) #1 (Variant)</td>\n",
       "      <td>IN THE SHADOW OF KIRISAKI MOUNTAIN?A SECRET HI...</td>\n",
       "    </tr>\n",
       "  </tbody>\n",
       "</table>\n",
       "</div>"
      ],
      "text/plain": [
       "      id                                   title  \\\n",
       "0  94799  Demon Days: Mariko (2021) #1 (Variant)   \n",
       "1  94801  Demon Days: Mariko (2021) #1 (Variant)   \n",
       "2  94802  Demon Days: Mariko (2021) #1 (Variant)   \n",
       "3  94803  Demon Days: Mariko (2021) #1 (Variant)   \n",
       "4  94804  Demon Days: Mariko (2021) #1 (Variant)   \n",
       "\n",
       "                                         description  \n",
       "0  IN THE SHADOW OF KIRISAKI MOUNTAIN?A SECRET HI...  \n",
       "1  IN THE SHADOW OF KIRISAKI MOUNTAIN?A SECRET HI...  \n",
       "2  IN THE SHADOW OF KIRISAKI MOUNTAIN?A SECRET HI...  \n",
       "3  IN THE SHADOW OF KIRISAKI MOUNTAIN?A SECRET HI...  \n",
       "4  IN THE SHADOW OF KIRISAKI MOUNTAIN?A SECRET HI...  "
      ]
     },
     "execution_count": 132,
     "metadata": {},
     "output_type": "execute_result"
    }
   ],
   "source": [
    "df_comics = ingestion(endpoint='comics', format_='comic')\n",
    "print(f'Dimensão do comics dataset: {df_comics.shape}')\n",
    "df_comics.head()"
   ]
  },
  {
   "cell_type": "markdown",
   "id": "f8e41d82-5132-40bf-a38b-717c5da101a3",
   "metadata": {},
   "source": [
    "<a name=\"3.2\"></a>\n",
    "### Transformação dos Dados\n",
    "Como podemos ver acima, as features `title` e `description` do dataset dos comics tem dados duplicados, independente se o seu `id` é diferente. Portanto, vamos excluir esses exemplos duplicados.\n",
    "\n",
    "Primeiro, vamos transformar a feature `id` no índice desse dataset para contar os exemplos duplicados entre as features `title` e `description`."
   ]
  },
  {
   "cell_type": "code",
   "execution_count": 90,
   "id": "10a8504e-3458-421c-87d6-cd9e95ddac87",
   "metadata": {},
   "outputs": [
    {
     "data": {
      "text/html": [
       "<div>\n",
       "<style scoped>\n",
       "    .dataframe tbody tr th:only-of-type {\n",
       "        vertical-align: middle;\n",
       "    }\n",
       "\n",
       "    .dataframe tbody tr th {\n",
       "        vertical-align: top;\n",
       "    }\n",
       "\n",
       "    .dataframe thead th {\n",
       "        text-align: right;\n",
       "    }\n",
       "</style>\n",
       "<table border=\"1\" class=\"dataframe\">\n",
       "  <thead>\n",
       "    <tr style=\"text-align: right;\">\n",
       "      <th></th>\n",
       "      <th>title</th>\n",
       "      <th>description</th>\n",
       "    </tr>\n",
       "    <tr>\n",
       "      <th>id</th>\n",
       "      <th></th>\n",
       "      <th></th>\n",
       "    </tr>\n",
       "  </thead>\n",
       "  <tbody>\n",
       "    <tr>\n",
       "      <th>94799</th>\n",
       "      <td>Demon Days: Mariko (2021) #1 (Variant)</td>\n",
       "      <td>IN THE SHADOW OF KIRISAKI MOUNTAIN?A SECRET HI...</td>\n",
       "    </tr>\n",
       "    <tr>\n",
       "      <th>94801</th>\n",
       "      <td>Demon Days: Mariko (2021) #1 (Variant)</td>\n",
       "      <td>IN THE SHADOW OF KIRISAKI MOUNTAIN?A SECRET HI...</td>\n",
       "    </tr>\n",
       "    <tr>\n",
       "      <th>94802</th>\n",
       "      <td>Demon Days: Mariko (2021) #1 (Variant)</td>\n",
       "      <td>IN THE SHADOW OF KIRISAKI MOUNTAIN?A SECRET HI...</td>\n",
       "    </tr>\n",
       "    <tr>\n",
       "      <th>94803</th>\n",
       "      <td>Demon Days: Mariko (2021) #1 (Variant)</td>\n",
       "      <td>IN THE SHADOW OF KIRISAKI MOUNTAIN?A SECRET HI...</td>\n",
       "    </tr>\n",
       "    <tr>\n",
       "      <th>94804</th>\n",
       "      <td>Demon Days: Mariko (2021) #1 (Variant)</td>\n",
       "      <td>IN THE SHADOW OF KIRISAKI MOUNTAIN?A SECRET HI...</td>\n",
       "    </tr>\n",
       "  </tbody>\n",
       "</table>\n",
       "</div>"
      ],
      "text/plain": [
       "                                        title  \\\n",
       "id                                              \n",
       "94799  Demon Days: Mariko (2021) #1 (Variant)   \n",
       "94801  Demon Days: Mariko (2021) #1 (Variant)   \n",
       "94802  Demon Days: Mariko (2021) #1 (Variant)   \n",
       "94803  Demon Days: Mariko (2021) #1 (Variant)   \n",
       "94804  Demon Days: Mariko (2021) #1 (Variant)   \n",
       "\n",
       "                                             description  \n",
       "id                                                        \n",
       "94799  IN THE SHADOW OF KIRISAKI MOUNTAIN?A SECRET HI...  \n",
       "94801  IN THE SHADOW OF KIRISAKI MOUNTAIN?A SECRET HI...  \n",
       "94802  IN THE SHADOW OF KIRISAKI MOUNTAIN?A SECRET HI...  \n",
       "94803  IN THE SHADOW OF KIRISAKI MOUNTAIN?A SECRET HI...  \n",
       "94804  IN THE SHADOW OF KIRISAKI MOUNTAIN?A SECRET HI...  "
      ]
     },
     "execution_count": 90,
     "metadata": {},
     "output_type": "execute_result"
    }
   ],
   "source": [
    "df_comics = df_comics.set_index('id')\n",
    "df_comics.head()"
   ]
  },
  {
   "cell_type": "markdown",
   "id": "c4e409f3-5eeb-4c7a-a2d6-472d0f5b8aa7",
   "metadata": {},
   "source": [
    "Contando os exemplos duplicados."
   ]
  },
  {
   "cell_type": "code",
   "execution_count": 46,
   "id": "1cc32ce5-01d6-472e-a16a-2896e8ffd032",
   "metadata": {},
   "outputs": [
    {
     "name": "stdout",
     "output_type": "stream",
     "text": [
      "Número de exemplos duplicados: 1069\n"
     ]
    }
   ],
   "source": [
    "print(f'Número de exemplos duplicados: {df_comics.duplicated().sum()}')"
   ]
  },
  {
   "cell_type": "markdown",
   "id": "6e12d7ce-e23f-4962-bf1d-e1300baf1c08",
   "metadata": {},
   "source": [
    "Deletando os exemplos duplicados."
   ]
  },
  {
   "cell_type": "code",
   "execution_count": 78,
   "id": "43b548a6-365f-4dab-b9a6-e10ac7f46d9d",
   "metadata": {},
   "outputs": [
    {
     "name": "stdout",
     "output_type": "stream",
     "text": [
      "Número de exemplos duplicados: 0\n"
     ]
    },
    {
     "data": {
      "text/html": [
       "<div>\n",
       "<style scoped>\n",
       "    .dataframe tbody tr th:only-of-type {\n",
       "        vertical-align: middle;\n",
       "    }\n",
       "\n",
       "    .dataframe tbody tr th {\n",
       "        vertical-align: top;\n",
       "    }\n",
       "\n",
       "    .dataframe thead th {\n",
       "        text-align: right;\n",
       "    }\n",
       "</style>\n",
       "<table border=\"1\" class=\"dataframe\">\n",
       "  <thead>\n",
       "    <tr style=\"text-align: right;\">\n",
       "      <th></th>\n",
       "      <th>id</th>\n",
       "      <th>title</th>\n",
       "      <th>description</th>\n",
       "    </tr>\n",
       "  </thead>\n",
       "  <tbody>\n",
       "    <tr>\n",
       "      <th>0</th>\n",
       "      <td>94799</td>\n",
       "      <td>Demon Days: Mariko (2021) #1 (Variant)</td>\n",
       "      <td>IN THE SHADOW OF KIRISAKI MOUNTAIN?A SECRET HI...</td>\n",
       "    </tr>\n",
       "    <tr>\n",
       "      <th>1</th>\n",
       "      <td>93339</td>\n",
       "      <td>The Mighty Valkyries (2021) #3</td>\n",
       "      <td>CHILDREN OF THE AFTERLIFE! While Kraven the Hu...</td>\n",
       "    </tr>\n",
       "    <tr>\n",
       "      <th>2</th>\n",
       "      <td>94884</td>\n",
       "      <td>The Mighty Valkyries (2021) #3 (Variant)</td>\n",
       "      <td>CHILDREN OF THE AFTERLIFE! While Kraven the Hu...</td>\n",
       "    </tr>\n",
       "    <tr>\n",
       "      <th>3</th>\n",
       "      <td>93350</td>\n",
       "      <td>X-Corp (2021) #2</td>\n",
       "      <td>A SHARK IN THE WATER! After X-CORP’s shocking ...</td>\n",
       "    </tr>\n",
       "    <tr>\n",
       "      <th>4</th>\n",
       "      <td>94896</td>\n",
       "      <td>X-Corp (2021) #2 (Variant)</td>\n",
       "      <td>A SHARK IN THE WATER! After X-CORP?s shocking ...</td>\n",
       "    </tr>\n",
       "  </tbody>\n",
       "</table>\n",
       "</div>"
      ],
      "text/plain": [
       "      id                                     title  \\\n",
       "0  94799    Demon Days: Mariko (2021) #1 (Variant)   \n",
       "1  93339            The Mighty Valkyries (2021) #3   \n",
       "2  94884  The Mighty Valkyries (2021) #3 (Variant)   \n",
       "3  93350                          X-Corp (2021) #2   \n",
       "4  94896                X-Corp (2021) #2 (Variant)   \n",
       "\n",
       "                                         description  \n",
       "0  IN THE SHADOW OF KIRISAKI MOUNTAIN?A SECRET HI...  \n",
       "1  CHILDREN OF THE AFTERLIFE! While Kraven the Hu...  \n",
       "2  CHILDREN OF THE AFTERLIFE! While Kraven the Hu...  \n",
       "3  A SHARK IN THE WATER! After X-CORP’s shocking ...  \n",
       "4  A SHARK IN THE WATER! After X-CORP?s shocking ...  "
      ]
     },
     "execution_count": 78,
     "metadata": {},
     "output_type": "execute_result"
    }
   ],
   "source": [
    "df_comics = df_comics.drop_duplicates()\n",
    "print(f'Número de exemplos duplicados: {df_comics.duplicated().sum()}')\n",
    "df_comics = df_comics.reset_index().drop(columns=['index'])\n",
    "df_comics.head()"
   ]
  },
  {
   "cell_type": "markdown",
   "id": "6b09f0ab-e4c1-402e-849d-13032485e356",
   "metadata": {},
   "source": [
    "Checando as duplicatas apenas para a feature `description` de cada comic."
   ]
  },
  {
   "cell_type": "code",
   "execution_count": 42,
   "id": "8d6c22f1-8588-417d-a871-de6bf47f7f61",
   "metadata": {},
   "outputs": [
    {
     "name": "stdout",
     "output_type": "stream",
     "text": [
      "Número de exemplos duplicados: 806\n",
      "Dimensão do dataset: (17733, 3)\n"
     ]
    }
   ],
   "source": [
    "print(f'Número de exemplos duplicados: {df_comics[[\"description\"]].duplicated().sum()}\\nDimensão do dataset: {df_comics.shape}')"
   ]
  },
  {
   "cell_type": "markdown",
   "id": "87ce94dd-182e-4caf-828c-c4678cce9aee",
   "metadata": {},
   "source": [
    "Deletando os exemplos duplicados."
   ]
  },
  {
   "cell_type": "code",
   "execution_count": 82,
   "id": "ab2d55e4-dff5-4c3c-8a99-0cdc80021da4",
   "metadata": {},
   "outputs": [
    {
     "name": "stdout",
     "output_type": "stream",
     "text": [
      "Dimensão do dataset após a exclusão dos exemplos duplicados: (16927, 3)\n"
     ]
    }
   ],
   "source": [
    "df_comics = df_comics.drop_duplicates('description')\n",
    "print(f'Dimensão do dataset após a exclusão dos exemplos duplicados: {df_comics.shape}')"
   ]
  },
  {
   "cell_type": "markdown",
   "id": "7106a232-3833-4bc3-b4ff-372102ade276",
   "metadata": {},
   "source": [
    "Checando as duplicatas apenas para a `description` de cada comic após excluir os exemplos duplicados."
   ]
  },
  {
   "cell_type": "code",
   "execution_count": 80,
   "id": "a8b75014-b44d-4ee9-9a3b-133574466cdd",
   "metadata": {},
   "outputs": [
    {
     "name": "stdout",
     "output_type": "stream",
     "text": [
      "Número de exemplos duplicados: 0\n"
     ]
    },
    {
     "data": {
      "text/html": [
       "<div>\n",
       "<style scoped>\n",
       "    .dataframe tbody tr th:only-of-type {\n",
       "        vertical-align: middle;\n",
       "    }\n",
       "\n",
       "    .dataframe tbody tr th {\n",
       "        vertical-align: top;\n",
       "    }\n",
       "\n",
       "    .dataframe thead th {\n",
       "        text-align: right;\n",
       "    }\n",
       "</style>\n",
       "<table border=\"1\" class=\"dataframe\">\n",
       "  <thead>\n",
       "    <tr style=\"text-align: right;\">\n",
       "      <th></th>\n",
       "      <th>id</th>\n",
       "      <th>title</th>\n",
       "      <th>description</th>\n",
       "    </tr>\n",
       "  </thead>\n",
       "  <tbody>\n",
       "    <tr>\n",
       "      <th>0</th>\n",
       "      <td>94799</td>\n",
       "      <td>Demon Days: Mariko (2021) #1 (Variant)</td>\n",
       "      <td>IN THE SHADOW OF KIRISAKI MOUNTAIN?A SECRET HI...</td>\n",
       "    </tr>\n",
       "    <tr>\n",
       "      <th>1</th>\n",
       "      <td>93339</td>\n",
       "      <td>The Mighty Valkyries (2021) #3</td>\n",
       "      <td>CHILDREN OF THE AFTERLIFE! While Kraven the Hu...</td>\n",
       "    </tr>\n",
       "    <tr>\n",
       "      <th>2</th>\n",
       "      <td>94884</td>\n",
       "      <td>The Mighty Valkyries (2021) #3 (Variant)</td>\n",
       "      <td>CHILDREN OF THE AFTERLIFE! While Kraven the Hu...</td>\n",
       "    </tr>\n",
       "    <tr>\n",
       "      <th>3</th>\n",
       "      <td>93350</td>\n",
       "      <td>X-Corp (2021) #2</td>\n",
       "      <td>A SHARK IN THE WATER! After X-CORP’s shocking ...</td>\n",
       "    </tr>\n",
       "    <tr>\n",
       "      <th>4</th>\n",
       "      <td>94896</td>\n",
       "      <td>X-Corp (2021) #2 (Variant)</td>\n",
       "      <td>A SHARK IN THE WATER! After X-CORP?s shocking ...</td>\n",
       "    </tr>\n",
       "  </tbody>\n",
       "</table>\n",
       "</div>"
      ],
      "text/plain": [
       "      id                                     title  \\\n",
       "0  94799    Demon Days: Mariko (2021) #1 (Variant)   \n",
       "1  93339            The Mighty Valkyries (2021) #3   \n",
       "2  94884  The Mighty Valkyries (2021) #3 (Variant)   \n",
       "3  93350                          X-Corp (2021) #2   \n",
       "4  94896                X-Corp (2021) #2 (Variant)   \n",
       "\n",
       "                                         description  \n",
       "0  IN THE SHADOW OF KIRISAKI MOUNTAIN?A SECRET HI...  \n",
       "1  CHILDREN OF THE AFTERLIFE! While Kraven the Hu...  \n",
       "2  CHILDREN OF THE AFTERLIFE! While Kraven the Hu...  \n",
       "3  A SHARK IN THE WATER! After X-CORP’s shocking ...  \n",
       "4  A SHARK IN THE WATER! After X-CORP?s shocking ...  "
      ]
     },
     "execution_count": 80,
     "metadata": {},
     "output_type": "execute_result"
    }
   ],
   "source": [
    "print(f'Número de exemplos duplicados: {df_comics[[\"description\"]].duplicated().sum()}')\n",
    "df_comics.head()"
   ]
  },
  {
   "cell_type": "markdown",
   "id": "d7e7b9ca-08f7-4a84-a652-20dd1ea9b93b",
   "metadata": {},
   "source": [
    "Estamos com 0 duplicatas, mas podemos ver alguns exemplos duplicados na feature `description`, vamos analisar isso com mais detalhes."
   ]
  },
  {
   "cell_type": "code",
   "execution_count": 39,
   "id": "8c82b04e-3cee-4534-9fb3-723d1ae7fccb",
   "metadata": {},
   "outputs": [
    {
     "name": "stdout",
     "output_type": "stream",
     "text": [
      "Algum exemplo:\n",
      "CHILDREN OF THE AFTERLIFE! While Kraven the Hunter stalks Jane Foster on Midgard and the newest Valkyrie fights for her soul on Perdita, Karnilla, the queen of Hel, works a miracle in the land of the dead! But Karnilla isn’t Hel’s only ruler—and now she’s upset the cosmic balance. There will be a price to pay…and Karnilla intends to ensure the Valkyries pay it.\n",
      "\n",
      "Exemplo duplicado:\n",
      "CHILDREN OF THE AFTERLIFE! While Kraven the Hunter stalks Jane Foster on Midgard and the newest Valkyrie fights for her soul on Perdita, Karnilla, the queen of Hel, works a miracle in the land of the dead! But Karnilla isn?t Hel?s only ruler?and now she?s upset the cosmic balance. There will be a price to pay?and Karnilla intends to ensure the Valkyries pay it.\n"
     ]
    }
   ],
   "source": [
    "print(f'Algum exemplo:\\n{df_comics[\"description\"][1]}\\n')\n",
    "print(f'Exemplo duplicado:\\n{df_comics[\"description\"][2]}')"
   ]
  },
  {
   "cell_type": "markdown",
   "id": "872138e2-ffb3-4d6c-94d5-b17a0b385413",
   "metadata": {},
   "source": [
    "O que diferencia os exemplos duplicados são algumas pontuações. Portanto, não vamos tratar esse problema agora. Esse problema será tratado posteriormente no pré-processamento desses dados."
   ]
  },
  {
   "cell_type": "markdown",
   "id": "d668840c-f090-4f3f-8feb-3a514abaa18b",
   "metadata": {},
   "source": [
    "<a name=\"3.2.1\"></a>\n",
    "#### Rotulação de Dados\n",
    "Precisamos rotular os dados extraídos e sem duplicatas. Portanto, podemos rotular exemplo por exemplo manualmente (chamamos esse método de `in-house`), ou encontramos uma empresa para rotular esses dados (chamamos esse método de `outsourced`), ou usamos uma plataforma crowdsourcing, para que um grande grupo rotule coletivamente os dados (chamamos esse método de `crowdsourced`), ou usamos o método de `zero-shot learning`, que foi o método utilizado nesse sistema."
   ]
  },
  {
   "cell_type": "markdown",
   "id": "7d4fa1e4-2d24-4772-86bb-c642a4fbbbc9",
   "metadata": {},
   "source": [
    "Definindo os labels e selecionando os textos do dataset."
   ]
  },
  {
   "cell_type": "code",
   "execution_count": 37,
   "id": "641256e1-acd6-4fa8-831e-096fcd070bb7",
   "metadata": {},
   "outputs": [
    {
     "name": "stdout",
     "output_type": "stream",
     "text": [
      "Tamanho do corpus dos comics: 16927\n"
     ]
    }
   ],
   "source": [
    "labels = [\n",
    "    'action',\n",
    "    'non-action',\n",
    "]\n",
    "\n",
    "corpus_comics = df_comics['description'].tolist()\n",
    "print(f'Tamanho do corpus dos comics: {len(corpus_comics)}')"
   ]
  },
  {
   "cell_type": "markdown",
   "id": "72879208-ffe3-4943-a0cf-85d46886c6bb",
   "metadata": {},
   "source": [
    "<a name=\"3.2.1.1\"></a>\n",
    "##### Zero-Shot Learning\n",
    "Tradicionalmente, o `zero-shot learning (ZSL)` geralmente se referia a um tipo bastante específico de tarefa, aprender um classificador em um set de labels e depois avaliar em um set diferente de labels que o classificador nunca viu antes. Recentemente, especialmente em NLP, tem sido usado de forma muito mais ampla, fazendo com que um modelo faça algo para o qual não foi explicitamente treinado. Um exemplo bem conhecido disso está no paper do GPT-2 (Generative Pretrained Transformer-2, OpenAI), onde os autores avaliam um modelo de linguagem em tarefas posteriores, como neural machine translation (NMT), sem fine-tuning direto nessas tarefas.\n",
    "\n",
    "Digamos que temos um modelo de embedding, um set de possíveis classes e a métrica de similaridade de cosseno. Então, classificamos uma determinada sequência de acordo com:\n",
    "$$\\hat{c} = \\mathrm{arg} \\max_{c\\ \\epsilon\\ \\mathrm{C}} \\cos( \\phi_{\\mathrm{enviado}}(\\vec{x}) Z,\\ \\phi_{\\mathrm{enviado}}(c) Z)$$\n",
    "* $\\phi_{\\mathrm{enviado}}$: modelo de embedding.\n",
    "* $\\mathrm{C}$: set com possíveis classes.\n",
    "* $\\mathrm{cos}$: métrica de similaridade de cosseno.\n",
    "* $\\vec{x}$: determinada sequência.\n",
    "> **Referência**: [Zero-Shot Learning in Modern NLP](https://joeddav.github.io/blog/2020/05/29/ZSL.html)\n",
    "\n",
    "Portanto, usamos o método `zero-shot learning` para rotular os nossos dados.\n",
    "\n",
    "Definindo a pipeline com a tarefa de `zero-shot-classification` e o modelo `facebook/bart-large-mnli`."
   ]
  },
  {
   "cell_type": "code",
   "execution_count": 66,
   "id": "d1859fa3-b0e4-4dfb-ab51-c7cdf6c066a2",
   "metadata": {},
   "outputs": [
    {
     "name": "stderr",
     "output_type": "stream",
     "text": [
      "Device set to use cpu\n"
     ]
    }
   ],
   "source": [
    "pipe_bart = pipeline(\n",
    "    'zero-shot-classification',\n",
    "    model='facebook/bart-large-mnli'\n",
    ")"
   ]
  },
  {
   "cell_type": "markdown",
   "id": "403906e4-54c8-421a-8cf2-3a3b83090174",
   "metadata": {},
   "source": [
    "Executando a tarefa de zero-shot learning para rotular os dados do dataset."
   ]
  },
  {
   "cell_type": "code",
   "execution_count": 35,
   "id": "f489e67c-8b61-48e6-b212-2361b8022a84",
   "metadata": {
    "scrolled": true
   },
   "outputs": [
    {
     "name": "stdout",
     "output_type": "stream",
     "text": [
      "Tamanho do vetor de labels do corpus dos comics: 16927\n"
     ]
    }
   ],
   "source": [
    "output_bart_comics = pipe_bart(corpus_comics, labels)\n",
    "print(f'Tamanho do vetor de labels do corpus dos comics: {len(output_bart_comics)}')"
   ]
  },
  {
   "cell_type": "markdown",
   "id": "019d8ac5-0d01-497d-a071-e1a443b59e1d",
   "metadata": {},
   "source": [
    "Percorrendo o output do modelo, selecionando o id do label com o maior score de cada exemplo, selecionando o id na lista de labels, adicionando o label em uma lista para adicionar ao dataset final e plotando os primeiros 5 exemplos do dataset."
   ]
  },
  {
   "cell_type": "code",
   "execution_count": 31,
   "id": "1b8d7bff-46b9-4507-8011-ebd63f05b90e",
   "metadata": {
    "scrolled": true
   },
   "outputs": [
    {
     "data": {
      "text/html": [
       "<div>\n",
       "<style scoped>\n",
       "    .dataframe tbody tr th:only-of-type {\n",
       "        vertical-align: middle;\n",
       "    }\n",
       "\n",
       "    .dataframe tbody tr th {\n",
       "        vertical-align: top;\n",
       "    }\n",
       "\n",
       "    .dataframe thead th {\n",
       "        text-align: right;\n",
       "    }\n",
       "</style>\n",
       "<table border=\"1\" class=\"dataframe\">\n",
       "  <thead>\n",
       "    <tr style=\"text-align: right;\">\n",
       "      <th></th>\n",
       "      <th>id</th>\n",
       "      <th>title</th>\n",
       "      <th>description</th>\n",
       "      <th>y</th>\n",
       "    </tr>\n",
       "  </thead>\n",
       "  <tbody>\n",
       "    <tr>\n",
       "      <th>0</th>\n",
       "      <td>94799</td>\n",
       "      <td>Demon Days: Mariko (2021) #1 (Variant)</td>\n",
       "      <td>IN THE SHADOW OF KIRISAKI MOUNTAIN?A SECRET HI...</td>\n",
       "      <td>non-action</td>\n",
       "    </tr>\n",
       "    <tr>\n",
       "      <th>1</th>\n",
       "      <td>93339</td>\n",
       "      <td>The Mighty Valkyries (2021) #3</td>\n",
       "      <td>CHILDREN OF THE AFTERLIFE! While Kraven the Hu...</td>\n",
       "      <td>action</td>\n",
       "    </tr>\n",
       "    <tr>\n",
       "      <th>2</th>\n",
       "      <td>94884</td>\n",
       "      <td>The Mighty Valkyries (2021) #3 (Variant)</td>\n",
       "      <td>CHILDREN OF THE AFTERLIFE! While Kraven the Hu...</td>\n",
       "      <td>action</td>\n",
       "    </tr>\n",
       "    <tr>\n",
       "      <th>3</th>\n",
       "      <td>93350</td>\n",
       "      <td>X-Corp (2021) #2</td>\n",
       "      <td>A SHARK IN THE WATER! After X-CORP’s shocking ...</td>\n",
       "      <td>non-action</td>\n",
       "    </tr>\n",
       "    <tr>\n",
       "      <th>4</th>\n",
       "      <td>94896</td>\n",
       "      <td>X-Corp (2021) #2 (Variant)</td>\n",
       "      <td>A SHARK IN THE WATER! After X-CORP?s shocking ...</td>\n",
       "      <td>non-action</td>\n",
       "    </tr>\n",
       "  </tbody>\n",
       "</table>\n",
       "</div>"
      ],
      "text/plain": [
       "      id                                     title  \\\n",
       "0  94799    Demon Days: Mariko (2021) #1 (Variant)   \n",
       "1  93339            The Mighty Valkyries (2021) #3   \n",
       "2  94884  The Mighty Valkyries (2021) #3 (Variant)   \n",
       "3  93350                          X-Corp (2021) #2   \n",
       "4  94896                X-Corp (2021) #2 (Variant)   \n",
       "\n",
       "                                         description           y  \n",
       "0  IN THE SHADOW OF KIRISAKI MOUNTAIN?A SECRET HI...  non-action  \n",
       "1  CHILDREN OF THE AFTERLIFE! While Kraven the Hu...      action  \n",
       "2  CHILDREN OF THE AFTERLIFE! While Kraven the Hu...      action  \n",
       "3  A SHARK IN THE WATER! After X-CORP’s shocking ...  non-action  \n",
       "4  A SHARK IN THE WATER! After X-CORP?s shocking ...  non-action  "
      ]
     },
     "execution_count": 31,
     "metadata": {},
     "output_type": "execute_result"
    }
   ],
   "source": [
    "# Lista para armazenar o label de cada exemplo\n",
    "labels_comic = []\n",
    "\n",
    "# Percorrendo o output do modelo\n",
    "for i in range(len(output_bart_comics)):\n",
    "    idx = np.argmax(output_bart_comics[i]['scores']) # Selecionando o id do label com o maior score de cada exemplo\n",
    "    label = output_bart_comics[i]['labels'][idx] # Selecionando o id na lista de labels\n",
    "    labels_comic.append(label) # Adicionando em uma lista para adicionar ao dataset final\n",
    "\n",
    "# Adicionando os labels ao dataset final\n",
    "df_comics['y'] = labels_comic\n",
    "df_comics.head()"
   ]
  },
  {
   "cell_type": "markdown",
   "id": "0a896142-9b5a-492e-bcc4-d895f761280a",
   "metadata": {},
   "source": [
    "<a name=\"3.3\"></a>\n",
    "### Carregamento dos Dados\n",
    "Carregando o dataset no diretório `../data/raw/`."
   ]
  },
  {
   "cell_type": "code",
   "execution_count": 34,
   "id": "5a577e91-9aa8-432b-b72e-8c968fd3ead8",
   "metadata": {},
   "outputs": [],
   "source": [
    "df_comics.to_csv('../data/raw/comics_corpus.csv', index=False)"
   ]
  }
 ],
 "metadata": {
  "kernelspec": {
   "display_name": "Python 3 (ipykernel)",
   "language": "python",
   "name": "python3"
  },
  "language_info": {
   "codemirror_mode": {
    "name": "ipython",
    "version": 3
   },
   "file_extension": ".py",
   "mimetype": "text/x-python",
   "name": "python",
   "nbconvert_exporter": "python",
   "pygments_lexer": "ipython3",
   "version": "3.11.5"
  }
 },
 "nbformat": 4,
 "nbformat_minor": 5
}
