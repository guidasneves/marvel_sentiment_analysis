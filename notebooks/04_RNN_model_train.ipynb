{
 "cells": [
  {
   "cell_type": "markdown",
   "id": "4497ee0a-f042-4a3f-b081-6d1051c3ddff",
   "metadata": {},
   "source": []
  },
  {
   "cell_type": "markdown",
   "id": "0c8618f5-38ea-4b3d-be01-62de9dcfebc9",
   "metadata": {},
   "source": []
  },
  {
   "cell_type": "code",
   "execution_count": 58,
   "id": "375d1727-909a-4086-ba17-f377c05c39ee",
   "metadata": {},
   "outputs": [],
   "source": [
    "import pandas as pd\n",
    "import numpy as np\n",
    "import tensorflow as tf\n",
    "from tensorflow.data import Dataset, AUTOTUNE\n",
    "\n",
    "import os\n",
    "import sys\n",
    "PROJECT_ROOT = os.path.abspath( # Getting Obtaining the absolute normalized version of the project root path (Obtendo a versão absoluta normalizada do path raíz do projeto)\n",
    "    os.path.join( # Concatenating the paths (Concatenando os paths)\n",
    "        os.getcwd(), # # Getting the path of the notebooks directory (Obtendo o path do diretório dos notebooks)\n",
    "        os.pardir # Gettin the constant string used by the OS to refer to the parent directory (Obtendo a string constante usada pelo OS para fazer referência ao diretório pai)\n",
    "    )\n",
    ")\n",
    "# Adding path to the list of strings that specify the search path for modules\n",
    "# Adicionando o path à lista de strings que especifica o path de pesquisa para os módulos\n",
    "sys.path.append(PROJECT_ROOT)\n",
    "from src.preprocessing import *"
   ]
  },
  {
   "cell_type": "markdown",
   "id": "25f9b6ae-a7d8-433d-bc57-819b73c23a87",
   "metadata": {},
   "source": []
  },
  {
   "cell_type": "code",
   "execution_count": 26,
   "id": "25ea5f4e-43f0-45e2-a4fd-cbc05d7f08d6",
   "metadata": {},
   "outputs": [
    {
     "name": "stdout",
     "output_type": "stream",
     "text": [
      "Train set shape: (9682, 167)\n",
      "Validation set shape: (3227, 167)\n",
      "Test set shape: (3228, 167)\n"
     ]
    }
   ],
   "source": [
    "files = ['train', 'valid', 'test']\n",
    "datasets = []\n",
    "for file in files:\n",
    "    with open(f'../data/preprocessed/{file}_corpus.npy', 'rb') as f:\n",
    "        datasets.append(np.load(f))\n",
    "\n",
    "train_corpus, valid_corpus, test_corpus = datasets\n",
    "print(f'Train set shape: {train_corpus.shape}\\nValidation set shape: {valid_corpus.shape}\\nTest set shape: {test_corpus.shape}')"
   ]
  },
  {
   "cell_type": "code",
   "execution_count": 28,
   "id": "74e88c26-e353-4a91-a2f2-fa1a41659f43",
   "metadata": {},
   "outputs": [],
   "source": [
    "BATCH_SIZE = 128\n",
    "BUFFER_SIZE = 1000"
   ]
  },
  {
   "cell_type": "code",
   "execution_count": 56,
   "id": "1878a33a-ad9c-49c5-8755-1686be3b9bed",
   "metadata": {},
   "outputs": [],
   "source": [
    "def create_batch_dataset(dataset, batch_size=64, buffer_size=10000):\n",
    "    \"\"\"\n",
    "    \n",
    "    \"\"\"\n",
    "    dataset_final = Dataset.from_tensor_slices((dataset[:, :-1], dataset[:, -1]))\n",
    "    dataset_final = (dataset_final\n",
    "                    .batch(batch_size)\n",
    "                    .shuffle(buffer_size)\n",
    "                    .prefetch(AUTOTUNE)\n",
    "                    .cache()\n",
    "                    )\n",
    "\n",
    "    return dataset_final"
   ]
  },
  {
   "cell_type": "code",
   "execution_count": 54,
   "id": "86fba599-081a-4c37-835a-fd7a74e5286f",
   "metadata": {},
   "outputs": [
    {
     "data": {
      "text/plain": [
       "tensorflow.python.data.ops.cache_op.CacheDataset"
      ]
     },
     "execution_count": 54,
     "metadata": {},
     "output_type": "execute_result"
    }
   ],
   "source": [
    "train_set = create_batch_dataset(train_corpus, BATCH_SIZE, BUFFER_SIZE)\n",
    "valid_set = create_batch_dataset(valid_corpus, BATCH_SIZE, BUFFER_SIZE)\n",
    "test_set = create_batch_dataset(test_corpus, BATCH_SIZE, BUFFER_SIZE)\n",
    "\n",
    "type(train_set)"
   ]
  }
 ],
 "metadata": {
  "kernelspec": {
   "display_name": "Python 3 (ipykernel)",
   "language": "python",
   "name": "python3"
  },
  "language_info": {
   "codemirror_mode": {
    "name": "ipython",
    "version": 3
   },
   "file_extension": ".py",
   "mimetype": "text/x-python",
   "name": "python",
   "nbconvert_exporter": "python",
   "pygments_lexer": "ipython3",
   "version": "3.11.5"
  }
 },
 "nbformat": 4,
 "nbformat_minor": 5
}
